{
  "nbformat": 4,
  "nbformat_minor": 0,
  "metadata": {
    "colab": {
      "name": "ts_dtw_clustering_dtaidistance_20210818.ipynb",
      "provenance": [],
      "collapsed_sections": [],
      "authorship_tag": "ABX9TyOrHNORRcfypkaHQAyjMmIp",
      "include_colab_link": true
    },
    "kernelspec": {
      "name": "python3",
      "display_name": "Python 3"
    },
    "language_info": {
      "name": "python"
    },
    "accelerator": "GPU"
  },
  "cells": [
    {
      "cell_type": "markdown",
      "metadata": {
        "id": "view-in-github",
        "colab_type": "text"
      },
      "source": [
        "<a href=\"https://colab.research.google.com/github/jon-chun/sentimenttime/blob/main/ts_dtw_clustering_dtaidistance_20210818.ipynb\" target=\"_parent\"><img src=\"https://colab.research.google.com/assets/colab-badge.svg\" alt=\"Open In Colab\"/></a>"
      ]
    },
    {
      "cell_type": "markdown",
      "metadata": {
        "id": "ANyfZ3ypflJQ"
      },
      "source": [
        "# **DTW Clustering with dtaidistance**\n",
        "\n",
        "* https://github.com/wannesm/dtaidistance"
      ]
    },
    {
      "cell_type": "markdown",
      "metadata": {
        "id": "KYHqJ5Mzo7wI"
      },
      "source": [
        "## **Setup**"
      ]
    },
    {
      "cell_type": "code",
      "metadata": {
        "id": "4JMa5kwUsb7n"
      },
      "source": [
        "!pip install dtaidistance[all]"
      ],
      "execution_count": null,
      "outputs": []
    },
    {
      "cell_type": "code",
      "metadata": {
        "id": "eE_sRmbff9ss"
      },
      "source": [
        "%matplotlib inline"
      ],
      "execution_count": null,
      "outputs": []
    },
    {
      "cell_type": "code",
      "metadata": {
        "id": "Al4u0YJZhvS3"
      },
      "source": [
        "import random\n",
        "import array"
      ],
      "execution_count": null,
      "outputs": []
    },
    {
      "cell_type": "code",
      "metadata": {
        "id": "B1NBN-UxgA3o"
      },
      "source": [
        "import numpy as np\n",
        "import pandas as pd\n",
        "import matplotlib.pyplot as plt\n"
      ],
      "execution_count": null,
      "outputs": []
    },
    {
      "cell_type": "code",
      "metadata": {
        "id": "U7eEO4t7gZs2"
      },
      "source": [
        "from dtaidistance import dtw\n",
        "from dtaidistance import dtw_visualisation as dtwvis"
      ],
      "execution_count": null,
      "outputs": []
    },
    {
      "cell_type": "code",
      "metadata": {
        "id": "09sVK1QXgPDT"
      },
      "source": [
        "from IPython.display import Image"
      ],
      "execution_count": null,
      "outputs": []
    },
    {
      "cell_type": "code",
      "metadata": {
        "id": "hyltcFqD5XcV"
      },
      "source": [
        "import matplotlib.pyplot as plt\n",
        "plt.rcParams[\"figure.figsize\"] = (30,10)"
      ],
      "execution_count": null,
      "outputs": []
    },
    {
      "cell_type": "code",
      "metadata": {
        "id": "3RH7yun07-ud"
      },
      "source": [
        "from IPython.core.interactiveshell import InteractiveShell\n",
        "InteractiveShell.ast_node_interactivity = \"all\""
      ],
      "execution_count": null,
      "outputs": []
    },
    {
      "cell_type": "markdown",
      "metadata": {
        "id": "y5g8tq94ONDD"
      },
      "source": [
        "## **Configure Matplotlib Styel for Print LaTex or Online Web Quality**\n",
        "\n",
        "* http://aeturrell.com/2018/01/31/publication-quality-plots-in-python/\n",
        "* https://github.com/jbmouret/matplotlib_for_papers\n",
        "* https://ipython-books.github.io/61-using-matplotlib-styles/\n",
        "* https://jakevdp.github.io/PythonDataScienceHandbook/04.11-settings-and-stylesheets.html\n",
        "\n",
        "Tech:\n",
        "* https://github.com/jbmouret/matplotlib_for_papers#median-vs-mean\n",
        "* https://github.com/garrettj403/SciencePlots (req latex)\n",
        "* https://timodenk.com/blog/exporting-matplotlib-plots-to-latex/ (export to *.pgf, req latex)\n",
        "* https://matplotlib.org/stable/tutorials/introductory/customizing.html \n",
        "\n",
        "Guidelines:\n",
        "* https://www.overleaf.com/learn/latex/Inserting_Images\n",
        "* https://news.ycombinator.com/item?id=19425637 \n",
        "* https://towardsdatascience.com/two-simple-steps-to-create-colorblind-friendly-data-visualizations-2ed781a167ec \n",
        "\n",
        "Basics\n",
        "* http://aeturrell.com/2018/01/31/publication-quality-plots-in-python/\n",
        "* http://www.jesshamrick.com/2016/04/13/reproducible-plots/"
      ]
    },
    {
      "cell_type": "code",
      "metadata": {
        "id": "_zUjRRIPOWoQ"
      },
      "source": [
        "cfgdir = matplotlib.get_configdir()\n",
        "cfgdir"
      ],
      "execution_count": null,
      "outputs": []
    },
    {
      "cell_type": "code",
      "metadata": {
        "id": "1UJPA3asWaDm"
      },
      "source": [
        "from pathlib import Path\n",
        "p = Path(cfgdir)\n",
        "stylelib = (p / 'stylelib')\n",
        "stylelib.mkdir(exist_ok=True)\n",
        "path = stylelib / 'mycustomstyle.mplstyle'"
      ],
      "execution_count": null,
      "outputs": []
    },
    {
      "cell_type": "code",
      "metadata": {
        "id": "0VtmM0p8WaAs"
      },
      "source": [
        "# http://aeturrell.com/2018/01/31/publication-quality-plots-in-python/\n",
        "\n",
        "# set 'figure.dpi: 125' for online web viewing\n",
        "\n",
        "path.write_text('''\n",
        "xtick.color: 323034\n",
        "ytick.color: 323034\n",
        "text.color: 323034\n",
        "lines.markeredgecolor: black\n",
        "patch.facecolor        : bc80bd\n",
        "patch.force_edgecolor  : True\n",
        "patch.linewidth: 0.8\n",
        "scatter.edgecolors: black\n",
        "grid.color: b1afb5\n",
        "axes.titlesize: 16\n",
        "legend.title_fontsize: 12\n",
        "xtick.labelsize: 12\n",
        "ytick.labelsize: 12\n",
        "axes.labelsize: 12\n",
        "font.size: 10\n",
        "axes.prop_cycle : (cycler('color', ['bc80bd' ,'fb8072', 'b3de69','fdb462','fccde5','8dd3c7','ffed6f','bebada','80b1d3', 'ccebc5', 'd9d9d9']))\n",
        "mathtext.fontset: stix\n",
        "font.family: STIXGeneral\n",
        "lines.linewidth: 2\n",
        "legend.frameon: True\n",
        "legend.framealpha: 0.8\n",
        "legend.fontsize: 10\n",
        "legend.edgecolor: 0.9\n",
        "legend.borderpad: 0.2\n",
        "legend.columnspacing: 1.5\n",
        "legend.labelspacing:  0.4\n",
        "text.usetex: False\n",
        "axes.titlelocation: left\n",
        "axes.formatter.use_mathtext: True\n",
        "axes.autolimit_mode: round_numbers\n",
        "axes.labelpad: 3\n",
        "axes.formatter.limits: -4, 4\n",
        "axes.labelcolor: black\n",
        "axes.edgecolor: black\n",
        "axes.linewidth: 0.6\n",
        "axes.spines.right : False\n",
        "axes.spines.top : False\n",
        "axes.grid: False\n",
        "figure.titlesize: 18\n",
        "figure.dpi: 300\n",
        "''')"
      ],
      "execution_count": null,
      "outputs": []
    },
    {
      "cell_type": "code",
      "metadata": {
        "id": "tRmYLUdJWZ9r"
      },
      "source": [
        "mpl.style.reload_library()"
      ],
      "execution_count": null,
      "outputs": []
    },
    {
      "cell_type": "code",
      "metadata": {
        "id": "_LKiuasrWhEy"
      },
      "source": [
        "with mpl.style.context(['ggplot', 'mycustomstyle']):\n",
        "    doplot()"
      ],
      "execution_count": null,
      "outputs": []
    },
    {
      "cell_type": "code",
      "metadata": {
        "id": "-dq0Zrm3WhBS"
      },
      "source": [
        ""
      ],
      "execution_count": null,
      "outputs": []
    },
    {
      "cell_type": "code",
      "metadata": {
        "id": "Rb0m-R9EWg-M"
      },
      "source": [
        ""
      ],
      "execution_count": null,
      "outputs": []
    },
    {
      "cell_type": "code",
      "metadata": {
        "id": "dH1lsLliNkSh"
      },
      "source": [
        "# Matplotlib style settings for LaTex print quality\n",
        "# set dpi=120 for online web viewing\n",
        "\n",
        "\n",
        "\n",
        "import matplotlib.pyplot as plt\n",
        "plt.style.use('plot_style.txt')\n"
      ],
      "execution_count": null,
      "outputs": []
    },
    {
      "cell_type": "markdown",
      "metadata": {
        "id": "vmHosz9b17U-"
      },
      "source": [
        "# **Get Data**"
      ]
    },
    {
      "cell_type": "code",
      "metadata": {
        "id": "CojWyOCM19QR"
      },
      "source": [
        "# Connect to Google gDrive\n",
        "\n",
        "# Flag to indicate first run through code \n",
        "flag_first_run = True\n",
        "\n",
        "from google.colab import drive, files\n",
        "drive.mount('/gdrive')\n",
        "%cd /gdrive/MyDrive/"
      ],
      "execution_count": null,
      "outputs": []
    },
    {
      "cell_type": "code",
      "metadata": {
        "id": "Iw1QfXVK2ECa"
      },
      "source": [
        "gdrive_subdir = \"./research/2021/sa_book_code/books_sa/cdickens_greatexpectations\" #@param {type:\"string\"}\n"
      ],
      "execution_count": null,
      "outputs": []
    },
    {
      "cell_type": "code",
      "metadata": {
        "id": "vW-a610X2D_B"
      },
      "source": [
        "flag_first_run = True\n",
        "\n",
        "CORPUS_SUBDIR = gdrive_subdir\n",
        "corpus_filename = CORPUS_SUBDIR\n",
        "\n",
        "# Change to working subdirectory\n",
        "if flag_first_run == True:\n",
        "  full_path_str = gdrive_subdir\n",
        "  flag_first_run = False\n",
        "else:\n",
        "  full_path_str = f'/gdrive/MyDrive{gdrive_subdir[1:]}'\n",
        "\n",
        "%cd $full_path_str"
      ],
      "execution_count": null,
      "outputs": []
    },
    {
      "cell_type": "code",
      "metadata": {
        "id": "iVUiL7OA2D79"
      },
      "source": [
        "!ls -altr *.csv"
      ],
      "execution_count": null,
      "outputs": []
    },
    {
      "cell_type": "code",
      "metadata": {
        "id": "uN3pKK_x2D5D"
      },
      "source": [
        "corpus_unified_df = pd.read_csv('sum_sentiments_all31_sents_cdickens_cdickens_greatexpectations.csv')"
      ],
      "execution_count": null,
      "outputs": []
    },
    {
      "cell_type": "code",
      "metadata": {
        "id": "Eh5vqBLn2D2L"
      },
      "source": [
        "corpus_unified_df.info()"
      ],
      "execution_count": null,
      "outputs": []
    },
    {
      "cell_type": "code",
      "metadata": {
        "id": "1XjdNmBC19Ld"
      },
      "source": [
        "corpus_unified_df['baseline_sentimentr_stdscaler_roll10'].plot()\n",
        "corpus_unified_df['baseline_syuzhet_stdscaler_roll10'].plot()\n",
        "sent_ct = corpus_unified_df.shape[0]\n",
        "plt.legend(loc='best')\n",
        "plt.title(f'Great Expectations by Charles Dickens\\nDiachronic Sentiment over {sent_ct} Sentences using Standard Scaler + SMA 10%');"
      ],
      "execution_count": null,
      "outputs": []
    },
    {
      "cell_type": "code",
      "metadata": {
        "id": "a9oTwP6-29Zr"
      },
      "source": [
        "ts_sentiments_df = corpus_unified_df.filter(like='roll10').copy()\n",
        "ts_sentiments_df.fillna(0, inplace=True)\n",
        "# print(f'Time Series Count: {sent_ct}')\n",
        "ts_sentiments_df.filter(regex='^(sentimentr|syuzhet|transformer)',axis=1).plot()\n",
        "plt.legend(loc='best')\n",
        "plt.title(f'Great Expectations by Charles Dickens\\nDiachronic Sentiment over {sent_ct} Sentences using Standard Scaler + SMA 10%');"
      ],
      "execution_count": null,
      "outputs": []
    },
    {
      "cell_type": "markdown",
      "metadata": {
        "id": "bGRZaC4io96t"
      },
      "source": [
        "## **Compute Distance Matrix between 2 Series**"
      ]
    },
    {
      "cell_type": "code",
      "metadata": {
        "id": "ZDuHnGabfkbl"
      },
      "source": [
        "from dtaidistance import dtw\n",
        "from dtaidistance import dtw_visualisation as dtwvis\n",
        "import numpy as np\n",
        "s1 = np.array([0., 0, 1, 2, 1, 0, 1, 0, 0, 2, 1, 0, 0])\n",
        "s2 = np.array([0., 1, 2, 3, 1, 0, 0, 0, 2, 1, 0, 0, 0])\n",
        "path = dtw.warping_path(s1, s2)\n",
        "dtwvis.plot_warping(s1, s2, path, filename=\"warp.png\")"
      ],
      "execution_count": null,
      "outputs": []
    },
    {
      "cell_type": "code",
      "metadata": {
        "id": "zKeB7_EcgGxJ"
      },
      "source": [
        "Image(filename='warp.png') "
      ],
      "execution_count": null,
      "outputs": []
    },
    {
      "cell_type": "code",
      "metadata": {
        "id": "flVzRjEXhIkW"
      },
      "source": [
        "res = [random.randrange(1, 50, 1) for i in range(7)]"
      ],
      "execution_count": null,
      "outputs": []
    },
    {
      "cell_type": "code",
      "metadata": {
        "id": "2gxUxLUBf73A"
      },
      "source": [
        "# Option #1: pandas\n",
        "\n",
        "s1 = [0, 0, 1, 2, 1, 0, 1, 0, 0]\n",
        "s2 = [0, 1, 2, 0, 0, 0, 0, 0, 0]\n",
        "distance = dtw.distance(s1, s2)\n",
        "print(distance)"
      ],
      "execution_count": null,
      "outputs": []
    },
    {
      "cell_type": "code",
      "metadata": {
        "id": "cVxOylPNt3QS"
      },
      "source": [
        "print(dtw.distance.__doc__)"
      ],
      "execution_count": null,
      "outputs": []
    },
    {
      "cell_type": "code",
      "metadata": {
        "id": "mnUSRo5Tha4r"
      },
      "source": [
        "%%timeit\n",
        "\n",
        "# 100 datapoints: 159ms\n",
        "# 300 datapoints: 1.5s\n",
        "# 500 datapoints: 4.3s\n",
        "# 1k datapoints: 17.7s\n",
        "# 5k datapoints: ?(1.55s)\n",
        "# 10k datapoints: >15m\n",
        "\n",
        "dist_ls = []\n",
        "\n",
        "for i in range(10):\n",
        "  r1 = [random.randrange(1, 50, 1) for i in range(10000)]\n",
        "  r2 = [random.randrange(1, 50, 1) for i in range(10000)]\n",
        "  dist_fl = dtw.distance(r1, r2)\n",
        "  dist_ls.append(dist_fl)\n",
        "\n",
        "print(f'Mean: {sum(dist_ls)/len(dist_ls)}')"
      ],
      "execution_count": null,
      "outputs": []
    },
    {
      "cell_type": "code",
      "metadata": {
        "id": "REe3SYCAmliL"
      },
      "source": [
        "%%timeit\n",
        "\n",
        "# 100 datapoints: 159ms\n",
        "# 300 datapoints: 1.5s\n",
        "# 500 datapoints: 4.3s\n",
        "# 1k datapoints: 17.7s\n",
        "# 5k datapoints: ?(1.55s)\n",
        "# 10k datapoints: \n",
        "\n",
        "dist_ls = []\n",
        "\n",
        "for i in range(10):\n",
        "  r1 = [random.randrange(1, 50, 1) for i in range(5000)]\n",
        "  r2 = [random.randrange(1, 50, 1) for i in range(5000)]\n",
        "  dist_fl = dtw.distance(r1, r2)\n",
        "  dist_ls.append(dist_fl)\n",
        "\n",
        "print(f'Mean: {sum(dist_ls)/len(dist_ls)}')"
      ],
      "execution_count": null,
      "outputs": []
    },
    {
      "cell_type": "code",
      "metadata": {
        "id": "fyLImJ-Cf8zD"
      },
      "source": [
        "# Option #2 (30-3000x faster) c implementation requires array w/doubles (and optionally max_dist pruning)\n",
        "\n",
        "s1 = array.array('d',[0, 0, 1, 2, 1, 0, 1, 0, 0])\n",
        "s2 = array.array('d',[0, 1, 2, 0, 0, 0, 0, 0, 0])\n",
        "d = dtw.distance_fast(s1, s2, use_pruning=True)\n",
        "print(d)"
      ],
      "execution_count": null,
      "outputs": []
    },
    {
      "cell_type": "code",
      "metadata": {
        "id": "--4UKgBTh3AH"
      },
      "source": [
        "%%timeit\n",
        "\n",
        "# 100 datapoints: 3ms\n",
        "# 300 datapoints: 12.3ms\n",
        "# 500 datapoints: 26ms\n",
        "# 1k datapoints: 81.3ms\n",
        "# 5k datapoints: 1.55s\n",
        "# 10k datapoints: 6s\n",
        "\n",
        "dist_fast_ls = []\n",
        "\n",
        "for i in range(10):\n",
        "  r1 = array.array('d',[random.randrange(1, 50, 1) for i in range(1000)])\n",
        "  r2 = array.array('d',[random.randrange(1, 50, 1) for i in range(1000)])\n",
        "  dist_fl = dtw.distance_fast(r1, r2)\n",
        "  dist_fast_ls.append(dist_fl)\n",
        "\n",
        "print(f'Mean: {sum(dist_fast_ls)/len(dist_fast_ls)}')"
      ],
      "execution_count": null,
      "outputs": []
    },
    {
      "cell_type": "code",
      "metadata": {
        "id": "9SJG_JLLgmRp"
      },
      "source": [
        "# Option #3: Numpy array with doubles or floats\n",
        "\n",
        "s1 = np.array([0, 0, 1, 2, 1, 0, 1, 0, 0], dtype=np.double)\n",
        "s2 = np.array([0.0, 1, 2, 0, 0, 0, 0, 0, 0])\n",
        "d = dtw.distance_fast(s1, s2, use_pruning=True)"
      ],
      "execution_count": null,
      "outputs": []
    },
    {
      "cell_type": "code",
      "metadata": {
        "id": "YuAIW4tSj-XR"
      },
      "source": [
        "%%timeit\n",
        "\n",
        "# 100 datapoints: 3ms\n",
        "# 300 datapoints: 12.3ms\n",
        "# 500 datapoints: 26ms\n",
        "# 1k datapoints: 82ms\n",
        "# 5k datapoints: 1.55s\n",
        "# 10k datapoints: 6s\n",
        "\n",
        "dist_c_ls = []\n",
        "\n",
        "for i in range(10):\n",
        "  r1 = np.array([random.randrange(1, 50, 1) for i in range(1000)], dtype=np.double)\n",
        "  r2 = np.array([random.randrange(1, 50, 1) for i in range(1000)], dtype=np.double)\n",
        "  dist_fl = dtw.distance_fast(r1, r2)\n",
        "  dist_c_ls.append(dist_fl)\n",
        "\n",
        "print(f'Mean: {sum(dist_c_ls)/len(dist_c_ls)}')"
      ],
      "execution_count": null,
      "outputs": []
    },
    {
      "cell_type": "markdown",
      "metadata": {
        "id": "ZjCozLeno1Hq"
      },
      "source": [
        "## **Visualize Warping Paths**"
      ]
    },
    {
      "cell_type": "code",
      "metadata": {
        "id": "n-3pDsX9kGDk"
      },
      "source": [
        "s1 = [0, 0, 1, 2, 1, 0, 1, 0, 0]\n",
        "s2 = [0, 1, 2, 0, 0, 0, 0, 0, 0]\n",
        "distance, paths = dtw.warping_paths(s1, s2)\n",
        "print(distance)\n",
        "print(paths)"
      ],
      "execution_count": null,
      "outputs": []
    },
    {
      "cell_type": "code",
      "metadata": {
        "id": "Ew8Q5LOBo0uT"
      },
      "source": [
        "x = np.arange(0, 20, .5)\n",
        "s1 = np.sin(x)\n",
        "s2 = np.sin(x - 1)\n",
        "random.seed(1)\n",
        "for idx in range(len(s2)):\n",
        "    if random.random() < 0.05:\n",
        "        s2[idx] += (random.random() - 0.5) / 2\n",
        "d, paths = dtw.warping_paths(s1, s2, window=25, psi=2)\n",
        "best_path = dtw.best_path(paths)\n",
        "dtwvis.plot_warpingpaths(s1, s2, paths, best_path)"
      ],
      "execution_count": null,
      "outputs": []
    },
    {
      "cell_type": "markdown",
      "metadata": {
        "id": "NTBPezg0qXfO"
      },
      "source": [
        "## **Compute Distance Matrix between Set of Series**"
      ]
    },
    {
      "cell_type": "code",
      "metadata": {
        "id": "rJRbu28tuPtR"
      },
      "source": [
        "series = [\n",
        "    np.array([0, 0, 1, 2, 1, 0, 1, 0, 0], dtype=np.double),\n",
        "    np.array([0.0, 1, 2, 0, 0, 0, 0, 0, 0, 0, 0]),\n",
        "    np.array([0.0, 0, 1, 2, 1, 0, 0, 0])]\n",
        "ds = dtw.distance_matrix_fast(series)"
      ],
      "execution_count": null,
      "outputs": []
    },
    {
      "cell_type": "code",
      "metadata": {
        "id": "99TFFc0YqXR_"
      },
      "source": [
        "series = np.matrix([\n",
        "    [0.0, 0, 1, 2, 1, 0, 1, 0, 0],\n",
        "    [0.0, 1, 2, 0, 0, 0, 0, 0, 0],\n",
        "    [0.0, 0, 1, 2, 1, 0, 0, 0, 0]])\n",
        "\n",
        "ds = dtw.distance_matrix_fast(series)"
      ],
      "execution_count": null,
      "outputs": []
    },
    {
      "cell_type": "code",
      "metadata": {
        "id": "CoDfclurrzvE"
      },
      "source": [
        "ds"
      ],
      "execution_count": null,
      "outputs": []
    },
    {
      "cell_type": "code",
      "metadata": {
        "id": "1pm-7wEcsmMb"
      },
      "source": [
        "[random.randrange(1, 50, 1) for i in range(10)]\n",
        "print('\\n')\n",
        "[random.randrange(1, 50, 1) for i in range(10)]\n",
        "print('\\n')\n",
        "[random.randrange(1, 50, 1) for i in range(10)]\n",
        "print('\\n')\n",
        "[random.randrange(1, 50, 1) for i in range(10)]"
      ],
      "execution_count": null,
      "outputs": []
    },
    {
      "cell_type": "code",
      "metadata": {
        "id": "VQNMEfLPsHJ1"
      },
      "source": [
        "series = [\n",
        "    np.array([random.randrange(1, 50, 1) for i in range(1000)], dtype=np.double),\n",
        "    np.array([random.randrange(1, 50, 1) for i in range(1000)], dtype=np.double),\n",
        "    np.array([random.randrange(1, 50, 1) for i in range(1000)], dtype=np.double),\n",
        "    np.array([random.randrange(1, 50, 1) for i in range(1000)], dtype=np.double),\n",
        "    np.array([random.randrange(1, 50, 1) for i in range(1000)], dtype=np.double),\n",
        "    np.array([random.randrange(1, 50, 1) for i in range(1000)], dtype=np.double),\n",
        "    np.array([random.randrange(1, 50, 1) for i in range(1000)], dtype=np.double),\n",
        "    np.array([random.randrange(1, 50, 1) for i in range(1000)], dtype=np.double),\n",
        "    np.array([random.randrange(1, 50, 1) for i in range(1000)], dtype=np.double),\n",
        "    np.array([random.randrange(1, 50, 1) for i in range(1000)], dtype=np.double)]\n",
        "ds = dtw.distance_matrix_fast(series)"
      ],
      "execution_count": null,
      "outputs": []
    },
    {
      "cell_type": "code",
      "metadata": {
        "id": "GzliDjqhr42m"
      },
      "source": [
        "ds"
      ],
      "execution_count": null,
      "outputs": []
    },
    {
      "cell_type": "code",
      "metadata": {
        "id": "AXue2jMsqXNB"
      },
      "source": [
        "# Can be distributed and parallelized"
      ],
      "execution_count": null,
      "outputs": []
    },
    {
      "cell_type": "markdown",
      "metadata": {
        "id": "Uob_9TVP7eiE"
      },
      "source": [
        "### **Sentence Sentiment Time Series**"
      ]
    },
    {
      "cell_type": "code",
      "metadata": {
        "id": "k0QYYHBN_eKE"
      },
      "source": [
        "ts_sentiments_df.isna().any()"
      ],
      "execution_count": null,
      "outputs": []
    },
    {
      "cell_type": "code",
      "metadata": {
        "id": "MwNxwguG5wV7"
      },
      "source": [
        "ts_sentiments_df.info()"
      ],
      "execution_count": null,
      "outputs": []
    },
    {
      "cell_type": "code",
      "metadata": {
        "id": "qH7AO9K56Mse"
      },
      "source": [
        "ts_sentiments_np = ts_sentiments_df.to_numpy().T\n",
        "ts_sentiments_np.shape"
      ],
      "execution_count": null,
      "outputs": []
    },
    {
      "cell_type": "code",
      "metadata": {
        "id": "xU09t0rb6o8I"
      },
      "source": [
        "%%time\n",
        "\n",
        "# NOTE: 2m\n",
        "\n",
        "ds = dtw.distance_matrix_fast(ts_sentiments_np)"
      ],
      "execution_count": null,
      "outputs": []
    },
    {
      "cell_type": "code",
      "metadata": {
        "id": "iDh4-NrQ5yY8"
      },
      "source": [
        "series = [\n",
        "    np.array(list(ts_sentiments_df['baseline_syuzhet_stdscaler_roll10']), dtype=np.double),\n",
        "    np.array(list(ts_sentiments_df['baseline_sentimentr_stdscaler_roll10']), dtype=np.double),\n",
        "    np.array(list(ts_sentiments_df['baseline_bing_stdscaler_roll10']), dtype=np.double)]\n",
        "ds = dtw.distance_matrix_fast(series)"
      ],
      "execution_count": null,
      "outputs": []
    },
    {
      "cell_type": "code",
      "metadata": {
        "id": "ELeFrNpN5yQp"
      },
      "source": [
        "type(ds)"
      ],
      "execution_count": null,
      "outputs": []
    },
    {
      "cell_type": "code",
      "metadata": {
        "id": "fNhY2mjo9bXT"
      },
      "source": [
        "ds.shape"
      ],
      "execution_count": null,
      "outputs": []
    },
    {
      "cell_type": "markdown",
      "metadata": {
        "id": "KB8IQNsSpOom"
      },
      "source": [
        "# **Visualize Hierarchical Clustering**"
      ]
    },
    {
      "cell_type": "code",
      "metadata": {
        "id": "t7y6i0GFuviq"
      },
      "source": [
        "import matplotlib.pyplot as plt\n",
        "plt.rcParams[\"figure.figsize\"] = (30, 10)"
      ],
      "execution_count": null,
      "outputs": []
    },
    {
      "cell_type": "code",
      "metadata": {
        "id": "qCBYyvrCuVdT"
      },
      "source": [
        "%%time\n",
        "\n",
        "# NOTE: 2m\n",
        "\n",
        "from dtaidistance import clustering\n",
        "# Custom Hierarchical clustering\n",
        "# model1 = clustering.Hierarchical(dtw.distance_matrix_fast, {})\n",
        "# cluster_idx = model1.fit(series)\n",
        "\n",
        "# Augment Hierarchical object to keep track of the full tree\n",
        "# model2 = clustering.HierarchicalTree(model1)\n",
        "# cluster_idx = model2.fit(series)\n",
        "\n",
        "\n",
        "# SciPy linkage clustering\n",
        "model3 = clustering.LinkageTree(dtw.distance_matrix_fast, {})\n",
        "cluster_idx = model3.fit(ts_sentiments_np) # (series)"
      ],
      "execution_count": null,
      "outputs": []
    },
    {
      "cell_type": "code",
      "metadata": {
        "id": "0N4XfaECuXKG"
      },
      "source": [
        "model3.plot(\"myplot.png\")\n",
        "Image(filename='myplot.png')"
      ],
      "execution_count": null,
      "outputs": []
    },
    {
      "cell_type": "code",
      "metadata": {
        "id": "GqH6FmhbwqPv"
      },
      "source": [
        "ts_labels = ['SentimentR',\n",
        "             'SyuzhetR',\n",
        "             'TextBlob',\n",
        "             'Flair',\n",
        "             'Stanza',\n",
        "             'Logistic Regression',\n",
        "             'LSTM',\n",
        "             'CNN',\n",
        "             'RoBERTa 15 Large',\n",
        "             'T5']\n",
        "\n",
        "\n",
        "fig, ax = plt.subplots(nrows=1, ncols=2, gridspec_kw={'width_ratios': [1, 4]}, figsize=(30, 10))\n",
        "# show_ts_label = lambda idx: \"ts-\" + str(idx)\n",
        "show_ts_label = lambda idx: ts_labels[idx]\n",
        "model3.plot(\"hierarchy.png\", axes=ax, show_ts_label=show_ts_label,\n",
        "           show_tr_label=True, ts_label_margin=-100,\n",
        "           ts_left_margin=5, ts_sample_length=1)"
      ],
      "execution_count": null,
      "outputs": []
    },
    {
      "cell_type": "code",
      "metadata": {
        "id": "G2xnjrsCwqMt"
      },
      "source": [
        "Image(filename='hierarchy.png') "
      ],
      "execution_count": null,
      "outputs": []
    },
    {
      "cell_type": "code",
      "metadata": {
        "id": "kaTxbw7twqJ4"
      },
      "source": [
        ""
      ],
      "execution_count": null,
      "outputs": []
    },
    {
      "cell_type": "code",
      "metadata": {
        "id": "2Vp5pXaHwqHE"
      },
      "source": [
        ""
      ],
      "execution_count": null,
      "outputs": []
    },
    {
      "cell_type": "code",
      "metadata": {
        "id": "IKPojcl6pMGs"
      },
      "source": [
        "from dtaidistance import clustering\n",
        "\n",
        "# Custom Hierarchical clustering\n",
        "# model1 = clustering.Hierarchical(dtw.distance_matrix_fast, {})\n",
        "# cluster_idx = model1.fit(series)\n",
        "\n",
        "# Augment Hierarchical object to keep track of the full tree\n",
        "# model2 = clustering.HierarchicalTree(model1)\n",
        "# cluster_idx = model2.fit(series)\n",
        "\n",
        "\n",
        "\n",
        "# SciPy linkage clustering\n",
        "model3 = clustering.LinkageTree(dtw.distance_matrix_fast, {})\n",
        "cluster_idx = model3.fit(series)"
      ],
      "execution_count": null,
      "outputs": []
    },
    {
      "cell_type": "code",
      "metadata": {
        "id": "_GeW0x7Cpkgg"
      },
      "source": [
        "model3.plot(\"myplot.png\")"
      ],
      "execution_count": null,
      "outputs": []
    },
    {
      "cell_type": "code",
      "metadata": {
        "id": "zhAAht3rqlyX"
      },
      "source": [
        ""
      ],
      "execution_count": null,
      "outputs": []
    }
  ]
}