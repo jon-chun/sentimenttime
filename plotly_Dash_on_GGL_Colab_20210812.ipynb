{
  "nbformat": 4,
  "nbformat_minor": 0,
  "metadata": {
    "kernelspec": {
      "display_name": "Python 3",
      "language": "python",
      "name": "python3"
    },
    "language_info": {
      "codemirror_mode": {
        "name": "ipython",
        "version": 3
      },
      "file_extension": ".py",
      "mimetype": "text/x-python",
      "name": "python",
      "nbconvert_exporter": "python",
      "pygments_lexer": "ipython3",
      "version": "3.8.3"
    },
    "colab": {
      "name": "plotly_Dash-on-GGL-Colab_20210812.ipynb",
      "provenance": [],
      "collapsed_sections": [],
      "include_colab_link": true
    }
  },
  "cells": [
    {
      "cell_type": "markdown",
      "metadata": {
        "id": "view-in-github",
        "colab_type": "text"
      },
      "source": [
        "<a href=\"https://colab.research.google.com/github/jon-chun/sentimenttime/blob/main/plotly_Dash_on_GGL_Colab_20210812.ipynb\" target=\"_parent\"><img src=\"https://colab.research.google.com/assets/colab-badge.svg\" alt=\"Open In Colab\"/></a>"
      ]
    },
    {
      "cell_type": "markdown",
      "metadata": {
        "id": "jlEjdHscxtah"
      },
      "source": [
        "References:\n",
        "\n",
        "* https://morioh.com/p/8a02263aa9e6"
      ]
    },
    {
      "cell_type": "code",
      "metadata": {
        "colab": {
          "base_uri": "https://localhost:8080/"
        },
        "id": "tUr9aRGBLUGo",
        "outputId": "01c2d866-4517-4efa-8626-275b10d38760"
      },
      "source": [
        "pip install jupyter-dash -q"
      ],
      "execution_count": null,
      "outputs": [
        {
          "output_type": "stream",
          "text": [
            "\u001b[K     |████████████████████████████████| 81kB 4.7MB/s \n",
            "\u001b[K     |████████████████████████████████| 1.0MB 32.0MB/s \n",
            "\u001b[K     |████████████████████████████████| 3.5MB 44.4MB/s \n",
            "\u001b[K     |████████████████████████████████| 194kB 36.9MB/s \n",
            "\u001b[K     |████████████████████████████████| 1.8MB 46.6MB/s \n",
            "\u001b[K     |████████████████████████████████| 358kB 43.1MB/s \n",
            "\u001b[?25h  Building wheel for dash (setup.py) ... \u001b[?25l\u001b[?25hdone\n",
            "  Building wheel for flask-compress (setup.py) ... \u001b[?25l\u001b[?25hdone\n",
            "  Building wheel for dash-renderer (setup.py) ... \u001b[?25l\u001b[?25hdone\n",
            "  Building wheel for dash-core-components (setup.py) ... \u001b[?25l\u001b[?25hdone\n",
            "  Building wheel for dash-html-components (setup.py) ... \u001b[?25l\u001b[?25hdone\n",
            "  Building wheel for dash-table (setup.py) ... \u001b[?25l\u001b[?25hdone\n"
          ],
          "name": "stdout"
        }
      ]
    },
    {
      "cell_type": "code",
      "metadata": {
        "colab": {
          "base_uri": "https://localhost:8080/"
        },
        "id": "w6w9vshALUGr",
        "outputId": "e656b98d-28b7-4b80-8398-6d4e95c0ad47"
      },
      "source": [
        "pip install dash-cytoscape -q"
      ],
      "execution_count": null,
      "outputs": [
        {
          "output_type": "stream",
          "text": [
            "\u001b[K     |████████████████████████████████| 3.6MB 10.2MB/s \n",
            "\u001b[?25h  Building wheel for dash-cytoscape (setup.py) ... \u001b[?25l\u001b[?25hdone\n"
          ],
          "name": "stdout"
        }
      ]
    },
    {
      "cell_type": "code",
      "metadata": {
        "colab": {
          "base_uri": "https://localhost:8080/",
          "height": 671
        },
        "id": "3Xaqxhy8LUGs",
        "outputId": "d09de325-c442-47ef-afe4-98fa244cfd7d"
      },
      "source": [
        "from jupyter_dash import JupyterDash  # pip install dash\n",
        "import dash_cytoscape as cyto  # pip install dash-cytoscape==0.2.0 or higher\n",
        "import dash_html_components as html\n",
        "import dash_core_components as dcc\n",
        "from dash.dependencies import Output, Input\n",
        "import pandas as pd  # pip install pandas\n",
        "import plotly.express as px\n",
        "import math\n",
        "from dash import no_update\n",
        "\n",
        "\n",
        "external_stylesheets = ['https://codepen.io/chriddyp/pen/bWLwgP.css']\n",
        "app = JupyterDash(__name__, external_stylesheets=external_stylesheets)\n",
        "\n",
        "df = pd.read_csv(\"https://raw.githubusercontent.com/Coding-with-Adam/Dash-by-Plotly/master/Cytoscape/org-data.csv\")\n",
        "\n",
        "app.layout = html.Div([\n",
        "    html.Div([\n",
        "        dcc.Dropdown(\n",
        "            id='dpdn',\n",
        "            value='breadthfirst',\n",
        "            clearable=False,\n",
        "            options=[\n",
        "                {'label': name.capitalize(), 'value': name}\n",
        "                for name in ['breadthfirst' ,'grid', 'random', 'circle', 'cose', 'concentric']\n",
        "            ]\n",
        "        ),\n",
        "        cyto.Cytoscape(\n",
        "            id='org-chart',\n",
        "            autoungrabify=True,\n",
        "            minZoom=0.2,\n",
        "            maxZoom=1,\n",
        "            layout={'name': 'breadthfirst'},\n",
        "            style={'width': '100%', 'height': '500px'},\n",
        "            elements=\n",
        "                [\n",
        "                    # Nodes elements\n",
        "                    {'data': {'id': x, 'label': x}} for x in df.name\n",
        "                ]\n",
        "                +\n",
        "                [\n",
        "                    # Edge elements\n",
        "                    {'data': {'source': 'Executive Director (Harriet)', 'target': 'Vice President (Sarah)'}},\n",
        "                    {'data': {'source': 'Executive Director (Harriet)', 'target': 'Vice President (Charlotte)'}},\n",
        "                    {'data': {'source': 'Vice President (Sarah)', 'target': 'Program Officer (Sojourner)'}},\n",
        "                    {'data': {'source': 'Vice President (Sarah)', 'target': 'Program Officer (Elizabeth)'}},\n",
        "                    {'data': {'source': 'Vice President (Charlotte)', 'target': 'Program Associate (Ellen)'}},\n",
        "                ]\n",
        "        )\n",
        "    ], className='six columns'),\n",
        "\n",
        "    html.Div([\n",
        "        html.Div(id='empty-div', children='')\n",
        "    ],className='one column'),\n",
        "\n",
        "    html.Div([\n",
        "        dcc.Graph(id='my-graph', figure=px.bar(df, x='name', y='slaves_freed'))\n",
        "    ], className='five columns'),\n",
        "\n",
        "], className='row')\n",
        "\n",
        "\n",
        "@app.callback(Output('org-chart', 'layout'),\n",
        "              Input('dpdn', 'value'))\n",
        "def update_layout(layout_value):\n",
        "    if layout_value == 'breadthfirst':\n",
        "        return {\n",
        "        'name': layout_value,\n",
        "        'roots': '[id = \"Executive Director (Harriet)\"]',\n",
        "        'animate': True\n",
        "        }\n",
        "    else:\n",
        "        return {\n",
        "            'name': layout_value,\n",
        "            'animate': True\n",
        "        }\n",
        "\n",
        "\n",
        "@app.callback(\n",
        "    Output('my-graph','figure'),\n",
        "    Input('org-chart','tapNodeData'),\n",
        ")\n",
        "def update_nodes(data):\n",
        "    if data is None:\n",
        "        return no_update\n",
        "    else:\n",
        "        dff = df.copy()\n",
        "        dff.loc[dff.name == data['label'], 'color'] = \"yellow\"\n",
        "        fig = px.bar(dff, x='name', y='slaves_freed')\n",
        "        fig.update_traces(marker={'color': dff['color']})\n",
        "        return fig\n",
        "\n",
        "\n",
        "app.run_server(mode='inline', port=8030)\n"
      ],
      "execution_count": null,
      "outputs": [
        {
          "output_type": "display_data",
          "data": {
            "application/javascript": [
              "(async (port, path, width, height, cache, element) => {\n",
              "    if (!google.colab.kernel.accessAllowed && !cache) {\n",
              "      return;\n",
              "    }\n",
              "    element.appendChild(document.createTextNode(''));\n",
              "    const url = await google.colab.kernel.proxyPort(port, {cache});\n",
              "    const iframe = document.createElement('iframe');\n",
              "    iframe.src = url + path;\n",
              "    iframe.height = height;\n",
              "    iframe.width = width;\n",
              "    iframe.style.border = 0;\n",
              "    element.appendChild(iframe);\n",
              "  })(8030, \"/\", \"100%\", 650, false, window.element)"
            ],
            "text/plain": [
              "<IPython.core.display.Javascript object>"
            ]
          },
          "metadata": {
            "tags": []
          }
        }
      ]
    },
    {
      "cell_type": "code",
      "metadata": {
        "id": "uP6IZ8RnLUGu"
      },
      "source": [
        ""
      ],
      "execution_count": null,
      "outputs": []
    }
  ]
}