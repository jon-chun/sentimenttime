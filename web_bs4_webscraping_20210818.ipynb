{
  "nbformat": 4,
  "nbformat_minor": 0,
  "metadata": {
    "kernelspec": {
      "display_name": "Python 3",
      "language": "python",
      "name": "python3"
    },
    "language_info": {
      "codemirror_mode": {
        "name": "ipython",
        "version": 3
      },
      "file_extension": ".py",
      "mimetype": "text/x-python",
      "name": "python",
      "nbconvert_exporter": "python",
      "pygments_lexer": "ipython3",
      "version": "3.6.4"
    },
    "colab": {
      "name": "web_bs4_webscraping_20210818.ipynb",
      "provenance": [],
      "collapsed_sections": [],
      "include_colab_link": true
    }
  },
  "cells": [
    {
      "cell_type": "markdown",
      "metadata": {
        "id": "view-in-github",
        "colab_type": "text"
      },
      "source": [
        "<a href=\"https://colab.research.google.com/github/jon-chun/sentimenttime/blob/main/web_bs4_webscraping_20210818.ipynb\" target=\"_parent\"><img src=\"https://colab.research.google.com/assets/colab-badge.svg\" alt=\"Open In Colab\"/></a>"
      ]
    },
    {
      "cell_type": "markdown",
      "metadata": {
        "id": "Wg2DYvRGeOqv"
      },
      "source": [
        "# Webscrape Example\n",
        "\n",
        "* https://github.com/julia-git/webscraping_ny_mta"
      ]
    },
    {
      "cell_type": "code",
      "metadata": {
        "colab": {
          "base_uri": "https://localhost:8080/"
        },
        "id": "CojWyOCM19QR",
        "outputId": "d343b963-5829-4f2d-e0a5-98e37a08fd04"
      },
      "source": [
        "# Connect to Google gDrive\n",
        "\n",
        "# Flag to indicate first run through code \n",
        "flag_first_run = True\n",
        "\n",
        "from google.colab import drive, files\n",
        "drive.mount('/gdrive')\n",
        "%cd /gdrive/MyDrive/"
      ],
      "execution_count": 77,
      "outputs": [
        {
          "output_type": "stream",
          "text": [
            "Mounted at /gdrive\n",
            "/gdrive/MyDrive\n"
          ],
          "name": "stdout"
        }
      ]
    },
    {
      "cell_type": "code",
      "metadata": {
        "id": "Iw1QfXVK2ECa"
      },
      "source": [
        "gdrive_subdir = \"./research/2021/sa_book_code/books_sa/books_raw\""
      ],
      "execution_count": 90,
      "outputs": []
    },
    {
      "cell_type": "code",
      "metadata": {
        "colab": {
          "base_uri": "https://localhost:8080/"
        },
        "id": "i5i09d8Ws5v0",
        "outputId": "ec1b6c1a-15e8-4999-d8f8-80778c04a5a3"
      },
      "source": [
        "%cd $gdrive_subdir"
      ],
      "execution_count": 92,
      "outputs": [
        {
          "output_type": "stream",
          "text": [
            "/gdrive/My Drive/research/2021/sa_book_code/books_sa/books_raw\n"
          ],
          "name": "stdout"
        }
      ]
    },
    {
      "cell_type": "code",
      "metadata": {
        "colab": {
          "base_uri": "https://localhost:8080/"
        },
        "id": "QTpjXmS8tA8L",
        "outputId": "a2c66dbc-9288-41f4-a1b9-acf4dec6f310"
      },
      "source": [
        "!pwd"
      ],
      "execution_count": 93,
      "outputs": [
        {
          "output_type": "stream",
          "text": [
            "/gdrive/My Drive/research/2021/sa_book_code/books_sa/books_raw\n"
          ],
          "name": "stdout"
        }
      ]
    },
    {
      "cell_type": "code",
      "metadata": {
        "id": "9c_JL4EJshwY"
      },
      "source": [
        "!ls"
      ],
      "execution_count": 94,
      "outputs": []
    },
    {
      "cell_type": "code",
      "metadata": {
        "colab": {
          "base_uri": "https://localhost:8080/"
        },
        "id": "vW-a610X2D_B",
        "outputId": "84bfcc07-96f0-47ea-bde5-ef3df64079a0"
      },
      "source": [
        "flag_first_run = True\n",
        "\n",
        "CORPUS_FULL = 'Great Expectations by Charles Dickens (1861)'\n",
        "CORPUS_SUBDIR = gdrive_subdir\n",
        "corpus_filename = CORPUS_SUBDIR\n",
        "\n",
        "# Change to working subdirectory\n",
        "if flag_first_run == True:\n",
        "  full_path_str = gdrive_subdir\n",
        "  flag_first_run = False\n",
        "else:\n",
        "  full_path_str = f'/gdrive/MyDrive{gdrive_subdir[1:]}'\n",
        "\n",
        "%cd $full_path_str"
      ],
      "execution_count": null,
      "outputs": [
        {
          "output_type": "stream",
          "text": [
            "/gdrive/MyDrive/research/2021/sa_book_code/books_sa/cdickens_greatexpectations\n"
          ],
          "name": "stdout"
        }
      ]
    },
    {
      "cell_type": "code",
      "metadata": {
        "id": "2zfTfQfHeOqz"
      },
      "source": [
        "import requests\n",
        "import urllib.request\n",
        "import time\n",
        "from bs4 import BeautifulSoup"
      ],
      "execution_count": 1,
      "outputs": []
    },
    {
      "cell_type": "markdown",
      "metadata": {
        "id": "A5CCHUUzeOq1"
      },
      "source": [
        "### Set the URL you want to webscrape from"
      ]
    },
    {
      "cell_type": "code",
      "metadata": {
        "id": "aOq-S0P4eOq2"
      },
      "source": [
        "url = 'http://www.glozman.com/textpages.html' # 'http://web.mta.info/developers/turnstile.html'"
      ],
      "execution_count": 2,
      "outputs": []
    },
    {
      "cell_type": "code",
      "metadata": {
        "colab": {
          "base_uri": "https://localhost:8080/"
        },
        "id": "4MBa6iiIfbxz",
        "outputId": "62af7c95-61a3-42eb-d1ad-acc303997131"
      },
      "source": [
        "url_base = '/'.join(url.split('/')[:-1]) + '/'\n",
        "print(f'url_base: {url_base}')"
      ],
      "execution_count": 23,
      "outputs": [
        {
          "output_type": "stream",
          "text": [
            "url_base: http://www.glozman.com/\n"
          ],
          "name": "stdout"
        }
      ]
    },
    {
      "cell_type": "markdown",
      "metadata": {
        "id": "R-IIg2ppeOq2"
      },
      "source": [
        "### Connect to the URL"
      ]
    },
    {
      "cell_type": "code",
      "metadata": {
        "id": "0dJ0ujZJeOq4"
      },
      "source": [
        "response = requests.get(url)"
      ],
      "execution_count": 3,
      "outputs": []
    },
    {
      "cell_type": "code",
      "metadata": {
        "id": "-ySOwzVCeOq4",
        "colab": {
          "base_uri": "https://localhost:8080/"
        },
        "outputId": "f7062093-540d-48c6-c7b0-f028c0a31ee6"
      },
      "source": [
        "response #200 means it went through"
      ],
      "execution_count": 4,
      "outputs": [
        {
          "output_type": "execute_result",
          "data": {
            "text/plain": [
              "<Response [200]>"
            ]
          },
          "metadata": {},
          "execution_count": 4
        }
      ]
    },
    {
      "cell_type": "markdown",
      "metadata": {
        "id": "9cox8YkneOq8"
      },
      "source": [
        "### Parse HTML and save to BeautifulSoup object"
      ]
    },
    {
      "cell_type": "code",
      "metadata": {
        "id": "53q_biFEeOq8"
      },
      "source": [
        "soup = BeautifulSoup(response.text, \"html.parser\")"
      ],
      "execution_count": 5,
      "outputs": []
    },
    {
      "cell_type": "code",
      "metadata": {
        "id": "wlxItgMeeOq8",
        "colab": {
          "base_uri": "https://localhost:8080/"
        },
        "outputId": "4d45dc41-ee57-4adb-913b-a7e1fbe733c9"
      },
      "source": [
        "soup"
      ],
      "execution_count": 6,
      "outputs": [
        {
          "output_type": "execute_result",
          "data": {
            "text/plain": [
              "<body>\n",
              "<b>PagesForPhone</b>\n",
              "<ul>\n",
              "<li><a href=\"TextPages/Clancy Tom - Patriot Games.txt\">Clancy Tom - Patriot Games.txt</a></li>\n",
              "<li><a href=\"TextPages/Clancy Tom - Red Storm Rising.txt\">Clancy Tom - Red Storm Rising.txt</a></li>\n",
              "<li><a href=\"TextPages/Clarke Arthur C - 3001 The Final Odissey.txt\">Clarke Arthur C - 3001 The Final Odyssey.txt</a></li>\n",
              "<li><a href=\"TextPages/Frank Herbert - Children of Dune.txt\">Frank Herbert - Children of Dune.txt</a></li>\n",
              "<li><a href=\"TextPages/Frank Herbert - Dune Messiah.txt\">Frank Herbert - Dune Messiah.txt</a></li>\n",
              "<li><a href=\"TextPages/Frank Herbert - Dune.txt\">Frank Herbert - Dune.txt</a></li>\n",
              "<li><a href=\"TextPages/Harry Potter 1 - Sorcerer's Stone.txt\">Harry Potter 1 - Sorcerer's Stone.txt</a></li>\n",
              "<li><a href=\"TextPages/Harry Potter 2 - Chamber of Secrets.txt\">Harry Potter 2 - Chamber of Secrets.txt</a></li>\n",
              "<li><a href=\"TextPages/Harry Potter 3 - The Prisoner Of Azkaban.txt\">Harry Potter 3 - The Prisoner Of Azkaban.txt</a></li>\n",
              "<li><a href=\"TextPages/Harry Potter 4 - The Goblet Of Fire.txt\">Harry Potter 4 - The Goblet Of Fire.txt</a></li>\n",
              "<li><a href=\"TextPages/Harry Potter 5 - Order of the Phoenix.txt\">Harry Potter 5 - Order of the Phoenix.txt</a></li>\n",
              "<li><a href=\"TextPages/Harry Potter 6 - The Half Blood Prince.txt\">Harry Potter 6 - The Half Blood Prince.txt</a></li>\n",
              "<li><a href=\"TextPages/Harry Potter 7 - Deathly Hollows.txt\">Harry Potter 7 - Deathly Hollows.txt</a></li>\n",
              "<li><a href=\"TextPages/Robert Jordan - The Strike at Shayol Ghul.txt\">Jordan - Strike at Shayol Ghul</a></li>\n",
              "<li><a href=\"TextPages/Robert Jordan - The Wheel of Time 01 - Eye of the world.txt\">Jordan - Eye of the world</a></li>\n",
              "<li><a href=\"TextPages/Robert Jordan - The Wheel of Time 02 - The Great Hunt.txt\">Jordan - The Great Hunt</a></li>\n",
              "<li><a href=\"TextPages/Robert Jordan - The Wheel of Time 03 - The Dragon Reborn.txt\">Jordan - The Dragon Reborn</a></li>\n",
              "<li><a href=\"TextPages/Robert Jordan - The Wheel of Time 04 - The Shadow Rising.txt\">Jordan - The Shadow Rising</a></li>\n",
              "<li><a href=\"TextPages/Robert Jordan - The Wheel of Time 05 - The Fires of Heaven.txt\">Jordan - The Fires of Heaven</a></li>\n",
              "<li><a href=\"TextPages/Robert Jordan - The Wheel of Time 06 - Lord of Chaos.txt\">Jordan - Lord of Chaos</a></li>\n",
              "<li><a href=\"TextPages/Robert Jordan - The Wheel of Time 07 - A Crown of Swords.txt\">Jordan - A Crown of Swords</a></li>\n",
              "<li><a href=\"TextPages/Robert Jordan - The Wheel of Time 08 - The Path of Daggers.txt\">Jordan - The Path of Daggers</a></li>\n",
              "<li><a href=\"TextPages/Robert Jordan - The Wheel of Time 09 - Winters Heart.txt\">Jordan - Winter's Heart</a></li>\n",
              "<li><a href=\"TextPages/Robert Jordan - The Wheel of Time 10 - Crossroads of Twilight.txt\">Jordan - Crossroads of Twilight</a></li>\n",
              "<li><a href=\"TextPages/Robert Jordan - The Wheel of Time 11 - Knife of Dreams.txt\">Jordan - Knife of Dreams</a></li>\n",
              "<li><a href=\"TextPages/Robert Jordan - The Wheel of Time Prelude - New Spring.txt\">Jordan - Prelude - New Spring</a></li>\n",
              "<li><a href=\"TextPages/Robert Jordan - The Wheel of Time Compendium.txt\">Jordan - Compendium (first 9 books)</a></li>\n",
              "<li><a href=\"TextPages/Robert Jordan - 12 - The Gathering Storm - Chapter One.txt\">Jordan - The Gathering Storm - Chapter One</a></li>\n",
              "<li><a href=\"TextPages/R.A. Salvatore - The Dark Elf Trilogy.txt\">R.A. Salvatore - The Dark Elf Trilogy.txt</a></li>\n",
              "<li><a href=\"TextPages/R.A.Salvatore - Icewind Dale Trilogy 1 - The Crystal Shard.txt\">R.A. Salvatore - The Icewind Dale Trilogy 1 - The Crystal Shard.txt</a></li>\n",
              "<li><a href=\"TextPages/R.A. Salvatore - The Icewind Dale Trilogy - 2 - Streams of Silver.txt\">R.A. Salvatore - The Icewind Dale Trilogy 2 - Streams of Silver.txt</a></li>\n",
              "<li><a href=\"TextPages/R.A. Salvatore - The Icewind Dale Trilogy - 3 - The Halfling's Gem.txt\">R.A. Salvatore - The Icewind Dale Trilogy 3 - The Halfling's Gem.txt</a></li>\n",
              "<li><a href=\"TextPages/R.A. Salvatore - The Legacy of the Drow 1 - Legacy.txt\">R.A. Salvatore - The Legacy of the Drow 1 - Legacy.txt</a></li>\n",
              "<li><a href=\"TextPages/RA SalvatoreThe Legacy of The Drow - 2 - Starless Night.txt\">R.A. Salvatore - The Legacy of the Drow 2 - Starless Night.txt</a></li>\n",
              "<li><a href=\"TextPages/R.A. Salvatore - The Legacy of the Drow III - Siege of Darkness.txt\">R.A. Salvatore - The Legacy of the Drow 3 - Siege of Darkness.txt</a></li>\n",
              "<li><a href=\"TextPages/R.A. Salvatore - The Legacy of the Drow IV - Passage to Dawn.txt\">R.A. Salvatore - The Legacy of the Drow 4 - Passage to Dawn.txt</a></li>\n",
              "<li><a href=\"TextPages/Salvatore, R.A. - Paths of Darkness 1 - The Silent Blade.txt\">R.A. Salvatore - Paths of Darkness 1 - The Silent Blade.txt</a></li>\n",
              "<li><a href=\"TextPages/Salvatore, R.A. - Paths of Darkness 2 - The Spine of the World.txt\">R.A. Salvatore - Paths of Darkness 2 - The Spine of the World.txt</a></li>\n",
              "<li><a href=\"TextPages/Salvatore, R.A. - Paths of Darkness 3 - Servant of the Shard.txt\">R.A. Salvatore - Paths of Darkness 3 - Servant of the Shard.txt</a></li>\n",
              "<li><a href=\"TextPages/Salvatore, RA - Cleric Quintet 1 - Canticle.txt\">Salvatore, RA - Cleric Quintet 1 - Canticle.txt</a></li>\n",
              "<li><a href=\"TextPages/Salvatore, RA - Cleric Quintet 2 - In Sylvan Shadows.txt\">Salvatore, RA - Cleric Quintet 2 - In Sylvan Shadows.txt</a></li>\n",
              "<li><a href=\"TextPages/Salvatore, RA - Cleric Quintet 3 - Night Masks.txt\">Salvatore, RA - Cleric Quintet 3 - Night Masks.txt</a></li>\n",
              "<li><a href=\"TextPages/Salvatore, RA - Cleric Quintet 4 - The Fallen Fortress.txt\">Salvatore, RA - Cleric Quintet 4 - The Fallen Fortress.txt</a></li>\n",
              "<li><a href=\"TextPages/Salvatore, RA - Cleric Quintet 5 -The Chaos Curse.txt\">Salvatore, RA - Cleric Quintet 5 - The Chaos Curse.txt</a></li>\n",
              "<li><a href=\"TextPages/01 The Thousand Orcs.txt\">01 The Thousand Orcs.txt</a></li>\n",
              "<li><a href=\"TextPages/02 The Lone Drow.txt\">02 The Lone Drow.txt</a></li>\n",
              "<li><a href=\"TextPages/03 The Two Swords.txt\">03 The Two Swords.txt</a></li>\n",
              "<li><a href=\"TextPages/01 Spellfire.txt\">01 Spellfire.txt</a></li>\n",
              "<li><a href=\"TextPages/02 Crown of Fire.txt\">02 Crown of Fire.txt</a></li>\n",
              "<li><a href=\"TextPages/01 Horselords.txt\">01 Horselords.txt</a></li>\n",
              "<li><a href=\"TextPages/02 Dragonwall.txt\">02 Dragonwall.txt</a></li>\n",
              "<li><a href=\"TextPages/03 Crusade.txt\">03 Crusade.txt</a></li>\n",
              "<li><a href=\"TextPages/01 Shadowdale.txt\">01 Shadowdale.txt</a></li>\n",
              "<li><a href=\"TextPages/02 Tantras.txt\">02 Tantras.txt</a></li>\n",
              "<li><a href=\"TextPages/03 Waterdeep.txt\">03 Waterdeep.txt</a></li>\n",
              "<li><a href=\"TextPages/04 Prince of Lies.txt\">04 Prince of Lies.txt</a></li>\n",
              "<li><a href=\"TextPages/05 Crucible - The Trial Of Cyric The Mad.txt\">05 Crucible - The Trial Of Cyric The Mad.txt</a></li>\n",
              "<li><a href=\"TextPages/01 Dragons of Autumn Twilight.txt\">01 Dragons of Autumn Twilight.txt</a></li>\n",
              "<li><a href=\"TextPages/02 Dragons of Winter Night.txt\">02 Dragons of Winter Night.txt</a></li>\n",
              "<li><a href=\"TextPages/03 Dragons of Spring Dawning.txt\">03 Dragons of Spring Dawning.txt</a></li>\n",
              "<li><a href=\"TextPages/01 Time Of The Twins.txt\">01 Time Of The Twins.txt</a></li>\n",
              "<li><a href=\"TextPages/02 War Of The Twins.txt\">02 War Of The Twins.txt</a></li>\n",
              "<li><a href=\"TextPages/03 Test Of The Twins.txt\">03 Test Of The Twins.txt</a></li>\n",
              "<li><a href=\"TextPages/01 The Second Generation.txt\">01 The Second Generation.txt</a></li>\n",
              "<li><a href=\"TextPages/02 Dragons of Summer Flame.txt\">02 Dragons of Summer Flame.txt</a></li>\n",
              "<li><a href=\"TextPages/Dragonlance Preludes 2 vol 2 - Flint the King.txt\">Dragonlance Preludes 2 vol 2 - Flint the King.txt</a></li>\n",
              "<li><a href=\"TextPages/01 The Legend Of Huma.txt\">01 The Legend Of Huma.txt</a></li>\n",
              "<li><a href=\"TextPages/Lloyd Alexander - [Chronicles Of Prydain 1] Book of Three.txt\">Lloyd Alexander - [Chronicles Of Prydain 1] Book of Three.txt</a></li>\n",
              "<li><a href=\"TextPages/Lloyd Alexander - [Chronicles Of Prydain 2] Black Cauldron.txt\">Lloyd Alexander - [Chronicles Of Prydain 2] Black Cauldron.txt</a></li>\n",
              "<li><a href=\"TextPages/Lloyd Alexander - [Chronicles Of Prydain 3] Castle Of Llyr.txt\">Lloyd Alexander - [Chronicles Of Prydain 3] Castle Of Llyr.txt</a></li>\n",
              "<li><a href=\"TextPages/Lloyd Alexander - [Chronicles Of Prydain 4] Taran Wanderer.txt\">Lloyd Alexander - [Chronicles Of Prydain 4] Taran Wanderer.txt</a></li>\n",
              "<li><a href=\"TextPages/Lloyd Alexander - [Chronicles Of Prydain 5] High King.txt\">Lloyd Alexander - [Chronicles Of Prydain 5] High King.txt</a></li>\n",
              "<li><a href=\"TextPages/Auel, Jean - Earth's Children 01 - The Clan of the Cave Bear.txt\">Auel, Jean - Earth's Children 01 - The Clan of the Cave Bear.txt</a></li>\n",
              "<li><a href=\"TextPages/Auel, Jean - Earth's Children 02 - The Valley of Horses.txt\">Auel, Jean - Earth's Children 02 - The Valley of Horses.txt</a></li>\n",
              "<li><a href=\"TextPages/Auel, Jean - Earth's Children 03 - The Mammoth Hunters.txt\">Auel, Jean - Earth's Children 03 - The Mammoth Hunters.txt</a></li>\n",
              "<li><a href=\"TextPages/Auel, Jean - Earth's Children 04 - Plains Of Passage.txt\">Auel, Jean - Earth's Children 04 - Plains Of Passage.txt</a></li>\n",
              "<li><a href=\"TextPages/Auel, Jean - Earth's Children 05 - The Shelters Of Stone.txt\">Auel, Jean - Earth's Children 05 - The Shelters Of Stone.txt</a></li>\n",
              "<li><a href=\"TextPages/Star Wars - [Thrawn Trilogy 01] - Heir to the Empire (by Timothy Zahn).txt\">Star Wars - [Thrawn Trilogy 01] - Heir to the Empire (by Timothy Zahn).txt</a></li>\n",
              "<li><a href=\"TextPages/Star Wars - [Thrawn Trilogy 02] - Dark Force Rising (by Timothy Zahn).txt\">Star Wars - [Thrawn Trilogy 02] - Dark Force Rising (by Timothy Zahn).txt</a></li>\n",
              "<li><a href=\"TextPages/Star Wars - [Thrawn Trilogy 03] - The Last Command (by Timothy Zahn).txt\">Star Wars - [Thrawn Trilogy 03] - The Last Command (by Timothy Zahn).txt</a></li>\n",
              "<li><a href=\"TextPages/01 - The Fellowship Of The Ring.txt\">Lord of the Rings - 01 - The Fellowship Of The Ring.txt</a></li>\n",
              "<li><a href=\"TextPages/02 - The Two Towers.txt\">Lord of the Rings - 04 - The Two Towers.txt</a></li>\n",
              "<li><a href=\"TextPages/03 - The Return Of The King.txt\">Lord of the Rings - 03 - The Return Of The King.txt</a></li>\n",
              "<li><a href=\"TextPages/04 - Appendices And Index.txt\">Lord of the Rings - 04 - Appendices And Index.txt</a></li>\n",
              "</ul>\n",
              "<p></p>\n",
              "</body>"
            ]
          },
          "metadata": {},
          "execution_count": 6
        }
      ]
    },
    {
      "cell_type": "markdown",
      "metadata": {
        "id": "fYlYkeSneOq9"
      },
      "source": [
        "### To locate all  'a' tags"
      ]
    },
    {
      "cell_type": "code",
      "metadata": {
        "id": "r3EPvvgVeOq-",
        "colab": {
          "base_uri": "https://localhost:8080/"
        },
        "outputId": "fcb8f5d2-d648-4a1e-9c57-ab8ee647ef96"
      },
      "source": [
        "soup.findAll('a')"
      ],
      "execution_count": 7,
      "outputs": [
        {
          "output_type": "execute_result",
          "data": {
            "text/plain": [
              "[<a href=\"TextPages/Clancy Tom - Patriot Games.txt\">Clancy Tom - Patriot Games.txt</a>,\n",
              " <a href=\"TextPages/Clancy Tom - Red Storm Rising.txt\">Clancy Tom - Red Storm Rising.txt</a>,\n",
              " <a href=\"TextPages/Clarke Arthur C - 3001 The Final Odissey.txt\">Clarke Arthur C - 3001 The Final Odyssey.txt</a>,\n",
              " <a href=\"TextPages/Frank Herbert - Children of Dune.txt\">Frank Herbert - Children of Dune.txt</a>,\n",
              " <a href=\"TextPages/Frank Herbert - Dune Messiah.txt\">Frank Herbert - Dune Messiah.txt</a>,\n",
              " <a href=\"TextPages/Frank Herbert - Dune.txt\">Frank Herbert - Dune.txt</a>,\n",
              " <a href=\"TextPages/Harry Potter 1 - Sorcerer's Stone.txt\">Harry Potter 1 - Sorcerer's Stone.txt</a>,\n",
              " <a href=\"TextPages/Harry Potter 2 - Chamber of Secrets.txt\">Harry Potter 2 - Chamber of Secrets.txt</a>,\n",
              " <a href=\"TextPages/Harry Potter 3 - The Prisoner Of Azkaban.txt\">Harry Potter 3 - The Prisoner Of Azkaban.txt</a>,\n",
              " <a href=\"TextPages/Harry Potter 4 - The Goblet Of Fire.txt\">Harry Potter 4 - The Goblet Of Fire.txt</a>,\n",
              " <a href=\"TextPages/Harry Potter 5 - Order of the Phoenix.txt\">Harry Potter 5 - Order of the Phoenix.txt</a>,\n",
              " <a href=\"TextPages/Harry Potter 6 - The Half Blood Prince.txt\">Harry Potter 6 - The Half Blood Prince.txt</a>,\n",
              " <a href=\"TextPages/Harry Potter 7 - Deathly Hollows.txt\">Harry Potter 7 - Deathly Hollows.txt</a>,\n",
              " <a href=\"TextPages/Robert Jordan - The Strike at Shayol Ghul.txt\">Jordan - Strike at Shayol Ghul</a>,\n",
              " <a href=\"TextPages/Robert Jordan - The Wheel of Time 01 - Eye of the world.txt\">Jordan - Eye of the world</a>,\n",
              " <a href=\"TextPages/Robert Jordan - The Wheel of Time 02 - The Great Hunt.txt\">Jordan - The Great Hunt</a>,\n",
              " <a href=\"TextPages/Robert Jordan - The Wheel of Time 03 - The Dragon Reborn.txt\">Jordan - The Dragon Reborn</a>,\n",
              " <a href=\"TextPages/Robert Jordan - The Wheel of Time 04 - The Shadow Rising.txt\">Jordan - The Shadow Rising</a>,\n",
              " <a href=\"TextPages/Robert Jordan - The Wheel of Time 05 - The Fires of Heaven.txt\">Jordan - The Fires of Heaven</a>,\n",
              " <a href=\"TextPages/Robert Jordan - The Wheel of Time 06 - Lord of Chaos.txt\">Jordan - Lord of Chaos</a>,\n",
              " <a href=\"TextPages/Robert Jordan - The Wheel of Time 07 - A Crown of Swords.txt\">Jordan - A Crown of Swords</a>,\n",
              " <a href=\"TextPages/Robert Jordan - The Wheel of Time 08 - The Path of Daggers.txt\">Jordan - The Path of Daggers</a>,\n",
              " <a href=\"TextPages/Robert Jordan - The Wheel of Time 09 - Winters Heart.txt\">Jordan - Winter's Heart</a>,\n",
              " <a href=\"TextPages/Robert Jordan - The Wheel of Time 10 - Crossroads of Twilight.txt\">Jordan - Crossroads of Twilight</a>,\n",
              " <a href=\"TextPages/Robert Jordan - The Wheel of Time 11 - Knife of Dreams.txt\">Jordan - Knife of Dreams</a>,\n",
              " <a href=\"TextPages/Robert Jordan - The Wheel of Time Prelude - New Spring.txt\">Jordan - Prelude - New Spring</a>,\n",
              " <a href=\"TextPages/Robert Jordan - The Wheel of Time Compendium.txt\">Jordan - Compendium (first 9 books)</a>,\n",
              " <a href=\"TextPages/Robert Jordan - 12 - The Gathering Storm - Chapter One.txt\">Jordan - The Gathering Storm - Chapter One</a>,\n",
              " <a href=\"TextPages/R.A. Salvatore - The Dark Elf Trilogy.txt\">R.A. Salvatore - The Dark Elf Trilogy.txt</a>,\n",
              " <a href=\"TextPages/R.A.Salvatore - Icewind Dale Trilogy 1 - The Crystal Shard.txt\">R.A. Salvatore - The Icewind Dale Trilogy 1 - The Crystal Shard.txt</a>,\n",
              " <a href=\"TextPages/R.A. Salvatore - The Icewind Dale Trilogy - 2 - Streams of Silver.txt\">R.A. Salvatore - The Icewind Dale Trilogy 2 - Streams of Silver.txt</a>,\n",
              " <a href=\"TextPages/R.A. Salvatore - The Icewind Dale Trilogy - 3 - The Halfling's Gem.txt\">R.A. Salvatore - The Icewind Dale Trilogy 3 - The Halfling's Gem.txt</a>,\n",
              " <a href=\"TextPages/R.A. Salvatore - The Legacy of the Drow 1 - Legacy.txt\">R.A. Salvatore - The Legacy of the Drow 1 - Legacy.txt</a>,\n",
              " <a href=\"TextPages/RA SalvatoreThe Legacy of The Drow - 2 - Starless Night.txt\">R.A. Salvatore - The Legacy of the Drow 2 - Starless Night.txt</a>,\n",
              " <a href=\"TextPages/R.A. Salvatore - The Legacy of the Drow III - Siege of Darkness.txt\">R.A. Salvatore - The Legacy of the Drow 3 - Siege of Darkness.txt</a>,\n",
              " <a href=\"TextPages/R.A. Salvatore - The Legacy of the Drow IV - Passage to Dawn.txt\">R.A. Salvatore - The Legacy of the Drow 4 - Passage to Dawn.txt</a>,\n",
              " <a href=\"TextPages/Salvatore, R.A. - Paths of Darkness 1 - The Silent Blade.txt\">R.A. Salvatore - Paths of Darkness 1 - The Silent Blade.txt</a>,\n",
              " <a href=\"TextPages/Salvatore, R.A. - Paths of Darkness 2 - The Spine of the World.txt\">R.A. Salvatore - Paths of Darkness 2 - The Spine of the World.txt</a>,\n",
              " <a href=\"TextPages/Salvatore, R.A. - Paths of Darkness 3 - Servant of the Shard.txt\">R.A. Salvatore - Paths of Darkness 3 - Servant of the Shard.txt</a>,\n",
              " <a href=\"TextPages/Salvatore, RA - Cleric Quintet 1 - Canticle.txt\">Salvatore, RA - Cleric Quintet 1 - Canticle.txt</a>,\n",
              " <a href=\"TextPages/Salvatore, RA - Cleric Quintet 2 - In Sylvan Shadows.txt\">Salvatore, RA - Cleric Quintet 2 - In Sylvan Shadows.txt</a>,\n",
              " <a href=\"TextPages/Salvatore, RA - Cleric Quintet 3 - Night Masks.txt\">Salvatore, RA - Cleric Quintet 3 - Night Masks.txt</a>,\n",
              " <a href=\"TextPages/Salvatore, RA - Cleric Quintet 4 - The Fallen Fortress.txt\">Salvatore, RA - Cleric Quintet 4 - The Fallen Fortress.txt</a>,\n",
              " <a href=\"TextPages/Salvatore, RA - Cleric Quintet 5 -The Chaos Curse.txt\">Salvatore, RA - Cleric Quintet 5 - The Chaos Curse.txt</a>,\n",
              " <a href=\"TextPages/01 The Thousand Orcs.txt\">01 The Thousand Orcs.txt</a>,\n",
              " <a href=\"TextPages/02 The Lone Drow.txt\">02 The Lone Drow.txt</a>,\n",
              " <a href=\"TextPages/03 The Two Swords.txt\">03 The Two Swords.txt</a>,\n",
              " <a href=\"TextPages/01 Spellfire.txt\">01 Spellfire.txt</a>,\n",
              " <a href=\"TextPages/02 Crown of Fire.txt\">02 Crown of Fire.txt</a>,\n",
              " <a href=\"TextPages/01 Horselords.txt\">01 Horselords.txt</a>,\n",
              " <a href=\"TextPages/02 Dragonwall.txt\">02 Dragonwall.txt</a>,\n",
              " <a href=\"TextPages/03 Crusade.txt\">03 Crusade.txt</a>,\n",
              " <a href=\"TextPages/01 Shadowdale.txt\">01 Shadowdale.txt</a>,\n",
              " <a href=\"TextPages/02 Tantras.txt\">02 Tantras.txt</a>,\n",
              " <a href=\"TextPages/03 Waterdeep.txt\">03 Waterdeep.txt</a>,\n",
              " <a href=\"TextPages/04 Prince of Lies.txt\">04 Prince of Lies.txt</a>,\n",
              " <a href=\"TextPages/05 Crucible - The Trial Of Cyric The Mad.txt\">05 Crucible - The Trial Of Cyric The Mad.txt</a>,\n",
              " <a href=\"TextPages/01 Dragons of Autumn Twilight.txt\">01 Dragons of Autumn Twilight.txt</a>,\n",
              " <a href=\"TextPages/02 Dragons of Winter Night.txt\">02 Dragons of Winter Night.txt</a>,\n",
              " <a href=\"TextPages/03 Dragons of Spring Dawning.txt\">03 Dragons of Spring Dawning.txt</a>,\n",
              " <a href=\"TextPages/01 Time Of The Twins.txt\">01 Time Of The Twins.txt</a>,\n",
              " <a href=\"TextPages/02 War Of The Twins.txt\">02 War Of The Twins.txt</a>,\n",
              " <a href=\"TextPages/03 Test Of The Twins.txt\">03 Test Of The Twins.txt</a>,\n",
              " <a href=\"TextPages/01 The Second Generation.txt\">01 The Second Generation.txt</a>,\n",
              " <a href=\"TextPages/02 Dragons of Summer Flame.txt\">02 Dragons of Summer Flame.txt</a>,\n",
              " <a href=\"TextPages/Dragonlance Preludes 2 vol 2 - Flint the King.txt\">Dragonlance Preludes 2 vol 2 - Flint the King.txt</a>,\n",
              " <a href=\"TextPages/01 The Legend Of Huma.txt\">01 The Legend Of Huma.txt</a>,\n",
              " <a href=\"TextPages/Lloyd Alexander - [Chronicles Of Prydain 1] Book of Three.txt\">Lloyd Alexander - [Chronicles Of Prydain 1] Book of Three.txt</a>,\n",
              " <a href=\"TextPages/Lloyd Alexander - [Chronicles Of Prydain 2] Black Cauldron.txt\">Lloyd Alexander - [Chronicles Of Prydain 2] Black Cauldron.txt</a>,\n",
              " <a href=\"TextPages/Lloyd Alexander - [Chronicles Of Prydain 3] Castle Of Llyr.txt\">Lloyd Alexander - [Chronicles Of Prydain 3] Castle Of Llyr.txt</a>,\n",
              " <a href=\"TextPages/Lloyd Alexander - [Chronicles Of Prydain 4] Taran Wanderer.txt\">Lloyd Alexander - [Chronicles Of Prydain 4] Taran Wanderer.txt</a>,\n",
              " <a href=\"TextPages/Lloyd Alexander - [Chronicles Of Prydain 5] High King.txt\">Lloyd Alexander - [Chronicles Of Prydain 5] High King.txt</a>,\n",
              " <a href=\"TextPages/Auel, Jean - Earth's Children 01 - The Clan of the Cave Bear.txt\">Auel, Jean - Earth's Children 01 - The Clan of the Cave Bear.txt</a>,\n",
              " <a href=\"TextPages/Auel, Jean - Earth's Children 02 - The Valley of Horses.txt\">Auel, Jean - Earth's Children 02 - The Valley of Horses.txt</a>,\n",
              " <a href=\"TextPages/Auel, Jean - Earth's Children 03 - The Mammoth Hunters.txt\">Auel, Jean - Earth's Children 03 - The Mammoth Hunters.txt</a>,\n",
              " <a href=\"TextPages/Auel, Jean - Earth's Children 04 - Plains Of Passage.txt\">Auel, Jean - Earth's Children 04 - Plains Of Passage.txt</a>,\n",
              " <a href=\"TextPages/Auel, Jean - Earth's Children 05 - The Shelters Of Stone.txt\">Auel, Jean - Earth's Children 05 - The Shelters Of Stone.txt</a>,\n",
              " <a href=\"TextPages/Star Wars - [Thrawn Trilogy 01] - Heir to the Empire (by Timothy Zahn).txt\">Star Wars - [Thrawn Trilogy 01] - Heir to the Empire (by Timothy Zahn).txt</a>,\n",
              " <a href=\"TextPages/Star Wars - [Thrawn Trilogy 02] - Dark Force Rising (by Timothy Zahn).txt\">Star Wars - [Thrawn Trilogy 02] - Dark Force Rising (by Timothy Zahn).txt</a>,\n",
              " <a href=\"TextPages/Star Wars - [Thrawn Trilogy 03] - The Last Command (by Timothy Zahn).txt\">Star Wars - [Thrawn Trilogy 03] - The Last Command (by Timothy Zahn).txt</a>,\n",
              " <a href=\"TextPages/01 - The Fellowship Of The Ring.txt\">Lord of the Rings - 01 - The Fellowship Of The Ring.txt</a>,\n",
              " <a href=\"TextPages/02 - The Two Towers.txt\">Lord of the Rings - 04 - The Two Towers.txt</a>,\n",
              " <a href=\"TextPages/03 - The Return Of The King.txt\">Lord of the Rings - 03 - The Return Of The King.txt</a>,\n",
              " <a href=\"TextPages/04 - Appendices And Index.txt\">Lord of the Rings - 04 - Appendices And Index.txt</a>]"
            ]
          },
          "metadata": {},
          "execution_count": 7
        }
      ]
    },
    {
      "cell_type": "markdown",
      "metadata": {
        "id": "fsS8N4ZQeOq-"
      },
      "source": [
        "### Let's take a quick look at the very first data file, which starts on line 36"
      ]
    },
    {
      "cell_type": "code",
      "metadata": {
        "colab": {
          "base_uri": "https://localhost:8080/"
        },
        "id": "24bFg4ASexC-",
        "outputId": "9b8ed48b-139a-42e4-a582-0ebb5e0a673e"
      },
      "source": [
        "alink_ls = list(soup.findAll('a'))\n",
        "print(alink_ls[:5])"
      ],
      "execution_count": 13,
      "outputs": [
        {
          "output_type": "stream",
          "text": [
            "[<a href=\"TextPages/Clancy Tom - Patriot Games.txt\">Clancy Tom - Patriot Games.txt</a>, <a href=\"TextPages/Clancy Tom - Red Storm Rising.txt\">Clancy Tom - Red Storm Rising.txt</a>, <a href=\"TextPages/Clarke Arthur C - 3001 The Final Odissey.txt\">Clarke Arthur C - 3001 The Final Odyssey.txt</a>, <a href=\"TextPages/Frank Herbert - Children of Dune.txt\">Frank Herbert - Children of Dune.txt</a>, <a href=\"TextPages/Frank Herbert - Dune Messiah.txt\">Frank Herbert - Dune Messiah.txt</a>]\n"
          ],
          "name": "stdout"
        }
      ]
    },
    {
      "cell_type": "code",
      "metadata": {
        "id": "JaRUAZBReOq-",
        "colab": {
          "base_uri": "https://localhost:8080/"
        },
        "outputId": "23a5d037-8c6e-496d-efb9-cfd3257013f8"
      },
      "source": [
        "# one_a_tag = soup.findAll('a')[36]\n",
        "one_a_tag = alink_ls[36]\n",
        "print(one_a_tag)"
      ],
      "execution_count": 16,
      "outputs": [
        {
          "output_type": "stream",
          "text": [
            "<a href=\"TextPages/Salvatore, R.A. - Paths of Darkness 1 - The Silent Blade.txt\">R.A. Salvatore - Paths of Darkness 1 - The Silent Blade.txt</a>\n"
          ],
          "name": "stdout"
        }
      ]
    },
    {
      "cell_type": "markdown",
      "metadata": {
        "id": "BwOyWj6ieOq_"
      },
      "source": [
        "### We want to extract the actual link"
      ]
    },
    {
      "cell_type": "code",
      "metadata": {
        "id": "4gdBHE7AeOq_",
        "colab": {
          "base_uri": "https://localhost:8080/",
          "height": 36
        },
        "outputId": "4c16e0cd-acd6-4915-e174-caf0dcb77126"
      },
      "source": [
        "link = one_a_tag['href']\n",
        "link"
      ],
      "execution_count": 17,
      "outputs": [
        {
          "output_type": "execute_result",
          "data": {
            "application/vnd.google.colaboratory.intrinsic+json": {
              "type": "string"
            },
            "text/plain": [
              "'TextPages/Salvatore, R.A. - Paths of Darkness 1 - The Silent Blade.txt'"
            ]
          },
          "metadata": {},
          "execution_count": 17
        }
      ]
    },
    {
      "cell_type": "markdown",
      "metadata": {
        "id": "T0nRYsvEeOrA"
      },
      "source": [
        "### The full download URL is 'http://web.mta.info/developers/' + link"
      ]
    },
    {
      "cell_type": "markdown",
      "metadata": {
        "id": "jjF02SWteOrA"
      },
      "source": [
        "## To download the whole data set, let's do a for loop through all a tags"
      ]
    },
    {
      "cell_type": "code",
      "metadata": {
        "id": "RdPZUmJxhtzG"
      },
      "source": [
        "import os"
      ],
      "execution_count": 28,
      "outputs": []
    },
    {
      "cell_type": "code",
      "metadata": {
        "id": "-Ny19b6nhzfv"
      },
      "source": [
        "corpora_path = './corpora_data/'"
      ],
      "execution_count": 32,
      "outputs": []
    },
    {
      "cell_type": "code",
      "metadata": {
        "id": "WwE0cTgrhrQr"
      },
      "source": [
        "if not os.path.isdir(corpora_path):\n",
        "  os.makedirs(corpora_path)"
      ],
      "execution_count": 33,
      "outputs": []
    },
    {
      "cell_type": "code",
      "metadata": {
        "colab": {
          "base_uri": "https://localhost:8080/"
        },
        "id": "8sNz97hdiAS7",
        "outputId": "01f212f1-9195-4a89-af1d-a06aea12df13"
      },
      "source": [
        "!ls"
      ],
      "execution_count": 34,
      "outputs": [
        {
          "output_type": "stream",
          "text": [
            "corpora_data  data  sample_data\n"
          ],
          "name": "stdout"
        }
      ]
    },
    {
      "cell_type": "code",
      "metadata": {
        "id": "5NG_a6-EjLPH"
      },
      "source": [
        "from pathlib import Path\n",
        "import requests\n",
        "\n",
        "def url_retrieve(url: str, outfile: Path):\n",
        "  R = requests.get(url, allow_redirects=True)\n",
        "  if R.status_code != 200:\n",
        "      raise ConnectionError('could not download {}\\nerror code: {}'.format(url, R.status_code))\n",
        "\n",
        "  outfile.write_text(R.content)"
      ],
      "execution_count": 43,
      "outputs": []
    },
    {
      "cell_type": "code",
      "metadata": {
        "id": "AP0gu53FpF8c"
      },
      "source": [
        "import re"
      ],
      "execution_count": 55,
      "outputs": []
    },
    {
      "cell_type": "code",
      "metadata": {
        "id": "PHH1AvMueOrA",
        "colab": {
          "base_uri": "https://localhost:8080/"
        },
        "outputId": "58e45423-fe7c-45a1-da10-37db5093c751"
      },
      "source": [
        "file_ct = 1\n",
        "for one_a_tag in soup.findAll('a'): \n",
        "  # 'a' tags are for links\n",
        "  # if line_count >= 36: #code for text files starts at line 36\n",
        "  link = one_a_tag['href']\n",
        "  # raw_fname = ''.join(link.split('\\'))\n",
        "  local_fname = ''.join([x.capitalize() for x in link.split()])\n",
        "  local_fname = ''.join([x for x in local_fname.split('/')[1:]])\n",
        "  # local_fname = str(local_file).capitalize()\n",
        "  local_fname = re.sub(r'[^A-Za-z0-9. ]+', '', local_fname)\n",
        "\n",
        "\n",
        "  download_url = (url_base + link).replace(\" \", \"%20\")\n",
        "  print(f'Downloading Link #{file_ct}:\\n  {download_url}\\n')\n",
        "  \n",
        "  R = requests.get(download_url, allow_redirects=True)\n",
        "  if R.status_code != 200:\n",
        "    raise ConnectionError('could not download {}\\nerror code: {}'.format(url, R.status_code))\n",
        "  else:\n",
        "    print(f'  Saving remote file: {download_url}')\n",
        "    print(f'       to local file: {local_fname}\\n\\n')\n",
        "\n",
        "    with open(local_fname, 'w') as fp:\n",
        "      fp.write(R.text)\n",
        "      \n",
        "  time.sleep(1)\n",
        "  file_ct += 1\n",
        "\n",
        "\"\"\"\n",
        "  local_file = Path(link)\n",
        "  url_retrieve(download_url, local_file)\n",
        "  # urllib.request.urlretrieve(download_url, f'{corpora_path}{link}') # ,'./'+link[link.find('/turnstile_')+1:]) \n",
        "  time.sleep(1)\n",
        "  line_count +=1\n",
        "\"\"\";"
      ],
      "execution_count": 95,
      "outputs": [
        {
          "output_type": "stream",
          "text": [
            "Downloading Link #1:\n",
            "  http://www.glozman.com/TextPages/Clancy%20Tom%20-%20Patriot%20Games.txt\n",
            "\n",
            "  Saving remote file: http://www.glozman.com/TextPages/Clancy%20Tom%20-%20Patriot%20Games.txt\n",
            "       to local file: clancyTomPatriotGames.txt\n",
            "\n",
            "\n",
            "Downloading Link #2:\n",
            "  http://www.glozman.com/TextPages/Clancy%20Tom%20-%20Red%20Storm%20Rising.txt\n",
            "\n",
            "  Saving remote file: http://www.glozman.com/TextPages/Clancy%20Tom%20-%20Red%20Storm%20Rising.txt\n",
            "       to local file: clancyTomRedStormRising.txt\n",
            "\n",
            "\n",
            "Downloading Link #3:\n",
            "  http://www.glozman.com/TextPages/Clarke%20Arthur%20C%20-%203001%20The%20Final%20Odissey.txt\n",
            "\n",
            "  Saving remote file: http://www.glozman.com/TextPages/Clarke%20Arthur%20C%20-%203001%20The%20Final%20Odissey.txt\n",
            "       to local file: clarkeArthurC3001TheFinalOdissey.txt\n",
            "\n",
            "\n",
            "Downloading Link #4:\n",
            "  http://www.glozman.com/TextPages/Frank%20Herbert%20-%20Children%20of%20Dune.txt\n",
            "\n",
            "  Saving remote file: http://www.glozman.com/TextPages/Frank%20Herbert%20-%20Children%20of%20Dune.txt\n",
            "       to local file: frankHerbertChildrenOfDune.txt\n",
            "\n",
            "\n",
            "Downloading Link #5:\n",
            "  http://www.glozman.com/TextPages/Frank%20Herbert%20-%20Dune%20Messiah.txt\n",
            "\n",
            "  Saving remote file: http://www.glozman.com/TextPages/Frank%20Herbert%20-%20Dune%20Messiah.txt\n",
            "       to local file: frankHerbertDuneMessiah.txt\n",
            "\n",
            "\n",
            "Downloading Link #6:\n",
            "  http://www.glozman.com/TextPages/Frank%20Herbert%20-%20Dune.txt\n",
            "\n",
            "  Saving remote file: http://www.glozman.com/TextPages/Frank%20Herbert%20-%20Dune.txt\n",
            "       to local file: frankHerbertDune.txt\n",
            "\n",
            "\n",
            "Downloading Link #7:\n",
            "  http://www.glozman.com/TextPages/Harry%20Potter%201%20-%20Sorcerer's%20Stone.txt\n",
            "\n",
            "  Saving remote file: http://www.glozman.com/TextPages/Harry%20Potter%201%20-%20Sorcerer's%20Stone.txt\n",
            "       to local file: harryPotter1SorcerersStone.txt\n",
            "\n",
            "\n",
            "Downloading Link #8:\n",
            "  http://www.glozman.com/TextPages/Harry%20Potter%202%20-%20Chamber%20of%20Secrets.txt\n",
            "\n",
            "  Saving remote file: http://www.glozman.com/TextPages/Harry%20Potter%202%20-%20Chamber%20of%20Secrets.txt\n",
            "       to local file: harryPotter2ChamberOfSecrets.txt\n",
            "\n",
            "\n",
            "Downloading Link #9:\n",
            "  http://www.glozman.com/TextPages/Harry%20Potter%203%20-%20The%20Prisoner%20Of%20Azkaban.txt\n",
            "\n",
            "  Saving remote file: http://www.glozman.com/TextPages/Harry%20Potter%203%20-%20The%20Prisoner%20Of%20Azkaban.txt\n",
            "       to local file: harryPotter3ThePrisonerOfAzkaban.txt\n",
            "\n",
            "\n",
            "Downloading Link #10:\n",
            "  http://www.glozman.com/TextPages/Harry%20Potter%204%20-%20The%20Goblet%20Of%20Fire.txt\n",
            "\n",
            "  Saving remote file: http://www.glozman.com/TextPages/Harry%20Potter%204%20-%20The%20Goblet%20Of%20Fire.txt\n",
            "       to local file: harryPotter4TheGobletOfFire.txt\n",
            "\n",
            "\n",
            "Downloading Link #11:\n",
            "  http://www.glozman.com/TextPages/Harry%20Potter%205%20-%20Order%20of%20the%20Phoenix.txt\n",
            "\n",
            "  Saving remote file: http://www.glozman.com/TextPages/Harry%20Potter%205%20-%20Order%20of%20the%20Phoenix.txt\n",
            "       to local file: harryPotter5OrderOfThePhoenix.txt\n",
            "\n",
            "\n",
            "Downloading Link #12:\n",
            "  http://www.glozman.com/TextPages/Harry%20Potter%206%20-%20The%20Half%20Blood%20Prince.txt\n",
            "\n",
            "  Saving remote file: http://www.glozman.com/TextPages/Harry%20Potter%206%20-%20The%20Half%20Blood%20Prince.txt\n",
            "       to local file: harryPotter6TheHalfBloodPrince.txt\n",
            "\n",
            "\n",
            "Downloading Link #13:\n",
            "  http://www.glozman.com/TextPages/Harry%20Potter%207%20-%20Deathly%20Hollows.txt\n",
            "\n",
            "  Saving remote file: http://www.glozman.com/TextPages/Harry%20Potter%207%20-%20Deathly%20Hollows.txt\n",
            "       to local file: harryPotter7DeathlyHollows.txt\n",
            "\n",
            "\n",
            "Downloading Link #14:\n",
            "  http://www.glozman.com/TextPages/Robert%20Jordan%20-%20The%20Strike%20at%20Shayol%20Ghul.txt\n",
            "\n",
            "  Saving remote file: http://www.glozman.com/TextPages/Robert%20Jordan%20-%20The%20Strike%20at%20Shayol%20Ghul.txt\n",
            "       to local file: robertJordanTheStrikeAtShayolGhul.txt\n",
            "\n",
            "\n",
            "Downloading Link #15:\n",
            "  http://www.glozman.com/TextPages/Robert%20Jordan%20-%20The%20Wheel%20of%20Time%2001%20-%20Eye%20of%20the%20world.txt\n",
            "\n",
            "  Saving remote file: http://www.glozman.com/TextPages/Robert%20Jordan%20-%20The%20Wheel%20of%20Time%2001%20-%20Eye%20of%20the%20world.txt\n",
            "       to local file: robertJordanTheWheelOfTime01EyeOfTheWorld.txt\n",
            "\n",
            "\n",
            "Downloading Link #16:\n",
            "  http://www.glozman.com/TextPages/Robert%20Jordan%20-%20The%20Wheel%20of%20Time%2002%20-%20The%20Great%20Hunt.txt\n",
            "\n",
            "  Saving remote file: http://www.glozman.com/TextPages/Robert%20Jordan%20-%20The%20Wheel%20of%20Time%2002%20-%20The%20Great%20Hunt.txt\n",
            "       to local file: robertJordanTheWheelOfTime02TheGreatHunt.txt\n",
            "\n",
            "\n",
            "Downloading Link #17:\n",
            "  http://www.glozman.com/TextPages/Robert%20Jordan%20-%20The%20Wheel%20of%20Time%2003%20-%20The%20Dragon%20Reborn.txt\n",
            "\n",
            "  Saving remote file: http://www.glozman.com/TextPages/Robert%20Jordan%20-%20The%20Wheel%20of%20Time%2003%20-%20The%20Dragon%20Reborn.txt\n",
            "       to local file: robertJordanTheWheelOfTime03TheDragonReborn.txt\n",
            "\n",
            "\n",
            "Downloading Link #18:\n",
            "  http://www.glozman.com/TextPages/Robert%20Jordan%20-%20The%20Wheel%20of%20Time%2004%20-%20The%20Shadow%20Rising.txt\n",
            "\n",
            "  Saving remote file: http://www.glozman.com/TextPages/Robert%20Jordan%20-%20The%20Wheel%20of%20Time%2004%20-%20The%20Shadow%20Rising.txt\n",
            "       to local file: robertJordanTheWheelOfTime04TheShadowRising.txt\n",
            "\n",
            "\n",
            "Downloading Link #19:\n",
            "  http://www.glozman.com/TextPages/Robert%20Jordan%20-%20The%20Wheel%20of%20Time%2005%20-%20The%20Fires%20of%20Heaven.txt\n",
            "\n",
            "  Saving remote file: http://www.glozman.com/TextPages/Robert%20Jordan%20-%20The%20Wheel%20of%20Time%2005%20-%20The%20Fires%20of%20Heaven.txt\n",
            "       to local file: robertJordanTheWheelOfTime05TheFiresOfHeaven.txt\n",
            "\n",
            "\n",
            "Downloading Link #20:\n",
            "  http://www.glozman.com/TextPages/Robert%20Jordan%20-%20The%20Wheel%20of%20Time%2006%20-%20Lord%20of%20Chaos.txt\n",
            "\n",
            "  Saving remote file: http://www.glozman.com/TextPages/Robert%20Jordan%20-%20The%20Wheel%20of%20Time%2006%20-%20Lord%20of%20Chaos.txt\n",
            "       to local file: robertJordanTheWheelOfTime06LordOfChaos.txt\n",
            "\n",
            "\n",
            "Downloading Link #21:\n",
            "  http://www.glozman.com/TextPages/Robert%20Jordan%20-%20The%20Wheel%20of%20Time%2007%20-%20A%20Crown%20of%20Swords.txt\n",
            "\n",
            "  Saving remote file: http://www.glozman.com/TextPages/Robert%20Jordan%20-%20The%20Wheel%20of%20Time%2007%20-%20A%20Crown%20of%20Swords.txt\n",
            "       to local file: robertJordanTheWheelOfTime07ACrownOfSwords.txt\n",
            "\n",
            "\n",
            "Downloading Link #22:\n",
            "  http://www.glozman.com/TextPages/Robert%20Jordan%20-%20The%20Wheel%20of%20Time%2008%20-%20The%20Path%20of%20Daggers.txt\n",
            "\n",
            "  Saving remote file: http://www.glozman.com/TextPages/Robert%20Jordan%20-%20The%20Wheel%20of%20Time%2008%20-%20The%20Path%20of%20Daggers.txt\n",
            "       to local file: robertJordanTheWheelOfTime08ThePathOfDaggers.txt\n",
            "\n",
            "\n",
            "Downloading Link #23:\n",
            "  http://www.glozman.com/TextPages/Robert%20Jordan%20-%20The%20Wheel%20of%20Time%2009%20-%20Winters%20Heart.txt\n",
            "\n",
            "  Saving remote file: http://www.glozman.com/TextPages/Robert%20Jordan%20-%20The%20Wheel%20of%20Time%2009%20-%20Winters%20Heart.txt\n",
            "       to local file: robertJordanTheWheelOfTime09WintersHeart.txt\n",
            "\n",
            "\n",
            "Downloading Link #24:\n",
            "  http://www.glozman.com/TextPages/Robert%20Jordan%20-%20The%20Wheel%20of%20Time%2010%20-%20Crossroads%20of%20Twilight.txt\n",
            "\n",
            "  Saving remote file: http://www.glozman.com/TextPages/Robert%20Jordan%20-%20The%20Wheel%20of%20Time%2010%20-%20Crossroads%20of%20Twilight.txt\n",
            "       to local file: robertJordanTheWheelOfTime10CrossroadsOfTwilight.txt\n",
            "\n",
            "\n",
            "Downloading Link #25:\n",
            "  http://www.glozman.com/TextPages/Robert%20Jordan%20-%20The%20Wheel%20of%20Time%2011%20-%20Knife%20of%20Dreams.txt\n",
            "\n",
            "  Saving remote file: http://www.glozman.com/TextPages/Robert%20Jordan%20-%20The%20Wheel%20of%20Time%2011%20-%20Knife%20of%20Dreams.txt\n",
            "       to local file: robertJordanTheWheelOfTime11KnifeOfDreams.txt\n",
            "\n",
            "\n",
            "Downloading Link #26:\n",
            "  http://www.glozman.com/TextPages/Robert%20Jordan%20-%20The%20Wheel%20of%20Time%20Prelude%20-%20New%20Spring.txt\n",
            "\n",
            "  Saving remote file: http://www.glozman.com/TextPages/Robert%20Jordan%20-%20The%20Wheel%20of%20Time%20Prelude%20-%20New%20Spring.txt\n",
            "       to local file: robertJordanTheWheelOfTimePreludeNewSpring.txt\n",
            "\n",
            "\n",
            "Downloading Link #27:\n",
            "  http://www.glozman.com/TextPages/Robert%20Jordan%20-%20The%20Wheel%20of%20Time%20Compendium.txt\n",
            "\n",
            "  Saving remote file: http://www.glozman.com/TextPages/Robert%20Jordan%20-%20The%20Wheel%20of%20Time%20Compendium.txt\n",
            "       to local file: robertJordanTheWheelOfTimeCompendium.txt\n",
            "\n",
            "\n",
            "Downloading Link #28:\n",
            "  http://www.glozman.com/TextPages/Robert%20Jordan%20-%2012%20-%20The%20Gathering%20Storm%20-%20Chapter%20One.txt\n",
            "\n",
            "  Saving remote file: http://www.glozman.com/TextPages/Robert%20Jordan%20-%2012%20-%20The%20Gathering%20Storm%20-%20Chapter%20One.txt\n",
            "       to local file: robertJordan12TheGatheringStormChapterOne.txt\n",
            "\n",
            "\n",
            "Downloading Link #29:\n",
            "  http://www.glozman.com/TextPages/R.A.%20Salvatore%20-%20The%20Dark%20Elf%20Trilogy.txt\n",
            "\n",
            "  Saving remote file: http://www.glozman.com/TextPages/R.A.%20Salvatore%20-%20The%20Dark%20Elf%20Trilogy.txt\n",
            "       to local file: r.a.SalvatoreTheDarkElfTrilogy.txt\n",
            "\n",
            "\n",
            "Downloading Link #30:\n",
            "  http://www.glozman.com/TextPages/R.A.Salvatore%20-%20Icewind%20Dale%20Trilogy%201%20-%20The%20Crystal%20Shard.txt\n",
            "\n",
            "  Saving remote file: http://www.glozman.com/TextPages/R.A.Salvatore%20-%20Icewind%20Dale%20Trilogy%201%20-%20The%20Crystal%20Shard.txt\n",
            "       to local file: r.a.salvatoreIcewindDaleTrilogy1TheCrystalShard.txt\n",
            "\n",
            "\n",
            "Downloading Link #31:\n",
            "  http://www.glozman.com/TextPages/R.A.%20Salvatore%20-%20The%20Icewind%20Dale%20Trilogy%20-%202%20-%20Streams%20of%20Silver.txt\n",
            "\n",
            "  Saving remote file: http://www.glozman.com/TextPages/R.A.%20Salvatore%20-%20The%20Icewind%20Dale%20Trilogy%20-%202%20-%20Streams%20of%20Silver.txt\n",
            "       to local file: r.a.SalvatoreTheIcewindDaleTrilogy2StreamsOfSilver.txt\n",
            "\n",
            "\n",
            "Downloading Link #32:\n",
            "  http://www.glozman.com/TextPages/R.A.%20Salvatore%20-%20The%20Icewind%20Dale%20Trilogy%20-%203%20-%20The%20Halfling's%20Gem.txt\n",
            "\n",
            "  Saving remote file: http://www.glozman.com/TextPages/R.A.%20Salvatore%20-%20The%20Icewind%20Dale%20Trilogy%20-%203%20-%20The%20Halfling's%20Gem.txt\n",
            "       to local file: r.a.SalvatoreTheIcewindDaleTrilogy3TheHalflingsGem.txt\n",
            "\n",
            "\n",
            "Downloading Link #33:\n",
            "  http://www.glozman.com/TextPages/R.A.%20Salvatore%20-%20The%20Legacy%20of%20the%20Drow%201%20-%20Legacy.txt\n",
            "\n",
            "  Saving remote file: http://www.glozman.com/TextPages/R.A.%20Salvatore%20-%20The%20Legacy%20of%20the%20Drow%201%20-%20Legacy.txt\n",
            "       to local file: r.a.SalvatoreTheLegacyOfTheDrow1Legacy.txt\n",
            "\n",
            "\n",
            "Downloading Link #34:\n",
            "  http://www.glozman.com/TextPages/RA%20SalvatoreThe%20Legacy%20of%20The%20Drow%20-%202%20-%20Starless%20Night.txt\n",
            "\n",
            "  Saving remote file: http://www.glozman.com/TextPages/RA%20SalvatoreThe%20Legacy%20of%20The%20Drow%20-%202%20-%20Starless%20Night.txt\n",
            "       to local file: raSalvatoretheLegacyOfTheDrow2StarlessNight.txt\n",
            "\n",
            "\n",
            "Downloading Link #35:\n",
            "  http://www.glozman.com/TextPages/R.A.%20Salvatore%20-%20The%20Legacy%20of%20the%20Drow%20III%20-%20Siege%20of%20Darkness.txt\n",
            "\n",
            "  Saving remote file: http://www.glozman.com/TextPages/R.A.%20Salvatore%20-%20The%20Legacy%20of%20the%20Drow%20III%20-%20Siege%20of%20Darkness.txt\n",
            "       to local file: r.a.SalvatoreTheLegacyOfTheDrowIiiSiegeOfDarkness.txt\n",
            "\n",
            "\n",
            "Downloading Link #36:\n",
            "  http://www.glozman.com/TextPages/R.A.%20Salvatore%20-%20The%20Legacy%20of%20the%20Drow%20IV%20-%20Passage%20to%20Dawn.txt\n",
            "\n",
            "  Saving remote file: http://www.glozman.com/TextPages/R.A.%20Salvatore%20-%20The%20Legacy%20of%20the%20Drow%20IV%20-%20Passage%20to%20Dawn.txt\n",
            "       to local file: r.a.SalvatoreTheLegacyOfTheDrowIvPassageToDawn.txt\n",
            "\n",
            "\n",
            "Downloading Link #37:\n",
            "  http://www.glozman.com/TextPages/Salvatore,%20R.A.%20-%20Paths%20of%20Darkness%201%20-%20The%20Silent%20Blade.txt\n",
            "\n",
            "  Saving remote file: http://www.glozman.com/TextPages/Salvatore,%20R.A.%20-%20Paths%20of%20Darkness%201%20-%20The%20Silent%20Blade.txt\n",
            "       to local file: salvatoreR.a.PathsOfDarkness1TheSilentBlade.txt\n",
            "\n",
            "\n",
            "Downloading Link #38:\n",
            "  http://www.glozman.com/TextPages/Salvatore,%20R.A.%20-%20Paths%20of%20Darkness%202%20-%20The%20Spine%20of%20the%20World.txt\n",
            "\n",
            "  Saving remote file: http://www.glozman.com/TextPages/Salvatore,%20R.A.%20-%20Paths%20of%20Darkness%202%20-%20The%20Spine%20of%20the%20World.txt\n",
            "       to local file: salvatoreR.a.PathsOfDarkness2TheSpineOfTheWorld.txt\n",
            "\n",
            "\n",
            "Downloading Link #39:\n",
            "  http://www.glozman.com/TextPages/Salvatore,%20R.A.%20-%20Paths%20of%20Darkness%203%20-%20Servant%20of%20the%20Shard.txt\n",
            "\n",
            "  Saving remote file: http://www.glozman.com/TextPages/Salvatore,%20R.A.%20-%20Paths%20of%20Darkness%203%20-%20Servant%20of%20the%20Shard.txt\n",
            "       to local file: salvatoreR.a.PathsOfDarkness3ServantOfTheShard.txt\n",
            "\n",
            "\n",
            "Downloading Link #40:\n",
            "  http://www.glozman.com/TextPages/Salvatore,%20RA%20-%20Cleric%20Quintet%201%20-%20Canticle.txt\n",
            "\n",
            "  Saving remote file: http://www.glozman.com/TextPages/Salvatore,%20RA%20-%20Cleric%20Quintet%201%20-%20Canticle.txt\n",
            "       to local file: salvatoreRaClericQuintet1Canticle.txt\n",
            "\n",
            "\n",
            "Downloading Link #41:\n",
            "  http://www.glozman.com/TextPages/Salvatore,%20RA%20-%20Cleric%20Quintet%202%20-%20In%20Sylvan%20Shadows.txt\n",
            "\n",
            "  Saving remote file: http://www.glozman.com/TextPages/Salvatore,%20RA%20-%20Cleric%20Quintet%202%20-%20In%20Sylvan%20Shadows.txt\n",
            "       to local file: salvatoreRaClericQuintet2InSylvanShadows.txt\n",
            "\n",
            "\n",
            "Downloading Link #42:\n",
            "  http://www.glozman.com/TextPages/Salvatore,%20RA%20-%20Cleric%20Quintet%203%20-%20Night%20Masks.txt\n",
            "\n",
            "  Saving remote file: http://www.glozman.com/TextPages/Salvatore,%20RA%20-%20Cleric%20Quintet%203%20-%20Night%20Masks.txt\n",
            "       to local file: salvatoreRaClericQuintet3NightMasks.txt\n",
            "\n",
            "\n",
            "Downloading Link #43:\n",
            "  http://www.glozman.com/TextPages/Salvatore,%20RA%20-%20Cleric%20Quintet%204%20-%20The%20Fallen%20Fortress.txt\n",
            "\n",
            "  Saving remote file: http://www.glozman.com/TextPages/Salvatore,%20RA%20-%20Cleric%20Quintet%204%20-%20The%20Fallen%20Fortress.txt\n",
            "       to local file: salvatoreRaClericQuintet4TheFallenFortress.txt\n",
            "\n",
            "\n",
            "Downloading Link #44:\n",
            "  http://www.glozman.com/TextPages/Salvatore,%20RA%20-%20Cleric%20Quintet%205%20-The%20Chaos%20Curse.txt\n",
            "\n",
            "  Saving remote file: http://www.glozman.com/TextPages/Salvatore,%20RA%20-%20Cleric%20Quintet%205%20-The%20Chaos%20Curse.txt\n",
            "       to local file: salvatoreRaClericQuintet5theChaosCurse.txt\n",
            "\n",
            "\n",
            "Downloading Link #45:\n",
            "  http://www.glozman.com/TextPages/01%20The%20Thousand%20Orcs.txt\n",
            "\n",
            "  Saving remote file: http://www.glozman.com/TextPages/01%20The%20Thousand%20Orcs.txt\n",
            "       to local file: 01TheThousandOrcs.txt\n",
            "\n",
            "\n",
            "Downloading Link #46:\n",
            "  http://www.glozman.com/TextPages/02%20The%20Lone%20Drow.txt\n",
            "\n",
            "  Saving remote file: http://www.glozman.com/TextPages/02%20The%20Lone%20Drow.txt\n",
            "       to local file: 02TheLoneDrow.txt\n",
            "\n",
            "\n",
            "Downloading Link #47:\n",
            "  http://www.glozman.com/TextPages/03%20The%20Two%20Swords.txt\n",
            "\n",
            "  Saving remote file: http://www.glozman.com/TextPages/03%20The%20Two%20Swords.txt\n",
            "       to local file: 03TheTwoSwords.txt\n",
            "\n",
            "\n",
            "Downloading Link #48:\n",
            "  http://www.glozman.com/TextPages/01%20Spellfire.txt\n",
            "\n",
            "  Saving remote file: http://www.glozman.com/TextPages/01%20Spellfire.txt\n",
            "       to local file: 01Spellfire.txt\n",
            "\n",
            "\n",
            "Downloading Link #49:\n",
            "  http://www.glozman.com/TextPages/02%20Crown%20of%20Fire.txt\n",
            "\n",
            "  Saving remote file: http://www.glozman.com/TextPages/02%20Crown%20of%20Fire.txt\n",
            "       to local file: 02CrownOfFire.txt\n",
            "\n",
            "\n",
            "Downloading Link #50:\n",
            "  http://www.glozman.com/TextPages/01%20Horselords.txt\n",
            "\n",
            "  Saving remote file: http://www.glozman.com/TextPages/01%20Horselords.txt\n",
            "       to local file: 01Horselords.txt\n",
            "\n",
            "\n",
            "Downloading Link #51:\n",
            "  http://www.glozman.com/TextPages/02%20Dragonwall.txt\n",
            "\n",
            "  Saving remote file: http://www.glozman.com/TextPages/02%20Dragonwall.txt\n",
            "       to local file: 02Dragonwall.txt\n",
            "\n",
            "\n",
            "Downloading Link #52:\n",
            "  http://www.glozman.com/TextPages/03%20Crusade.txt\n",
            "\n",
            "  Saving remote file: http://www.glozman.com/TextPages/03%20Crusade.txt\n",
            "       to local file: 03Crusade.txt\n",
            "\n",
            "\n",
            "Downloading Link #53:\n",
            "  http://www.glozman.com/TextPages/01%20Shadowdale.txt\n",
            "\n",
            "  Saving remote file: http://www.glozman.com/TextPages/01%20Shadowdale.txt\n",
            "       to local file: 01Shadowdale.txt\n",
            "\n",
            "\n",
            "Downloading Link #54:\n",
            "  http://www.glozman.com/TextPages/02%20Tantras.txt\n",
            "\n",
            "  Saving remote file: http://www.glozman.com/TextPages/02%20Tantras.txt\n",
            "       to local file: 02Tantras.txt\n",
            "\n",
            "\n",
            "Downloading Link #55:\n",
            "  http://www.glozman.com/TextPages/03%20Waterdeep.txt\n",
            "\n",
            "  Saving remote file: http://www.glozman.com/TextPages/03%20Waterdeep.txt\n",
            "       to local file: 03Waterdeep.txt\n",
            "\n",
            "\n",
            "Downloading Link #56:\n",
            "  http://www.glozman.com/TextPages/04%20Prince%20of%20Lies.txt\n",
            "\n",
            "  Saving remote file: http://www.glozman.com/TextPages/04%20Prince%20of%20Lies.txt\n",
            "       to local file: 04PrinceOfLies.txt\n",
            "\n",
            "\n",
            "Downloading Link #57:\n",
            "  http://www.glozman.com/TextPages/05%20Crucible%20-%20The%20Trial%20Of%20Cyric%20The%20Mad.txt\n",
            "\n",
            "  Saving remote file: http://www.glozman.com/TextPages/05%20Crucible%20-%20The%20Trial%20Of%20Cyric%20The%20Mad.txt\n",
            "       to local file: 05CrucibleTheTrialOfCyricTheMad.txt\n",
            "\n",
            "\n",
            "Downloading Link #58:\n",
            "  http://www.glozman.com/TextPages/01%20Dragons%20of%20Autumn%20Twilight.txt\n",
            "\n",
            "  Saving remote file: http://www.glozman.com/TextPages/01%20Dragons%20of%20Autumn%20Twilight.txt\n",
            "       to local file: 01DragonsOfAutumnTwilight.txt\n",
            "\n",
            "\n",
            "Downloading Link #59:\n",
            "  http://www.glozman.com/TextPages/02%20Dragons%20of%20Winter%20Night.txt\n",
            "\n",
            "  Saving remote file: http://www.glozman.com/TextPages/02%20Dragons%20of%20Winter%20Night.txt\n",
            "       to local file: 02DragonsOfWinterNight.txt\n",
            "\n",
            "\n",
            "Downloading Link #60:\n",
            "  http://www.glozman.com/TextPages/03%20Dragons%20of%20Spring%20Dawning.txt\n",
            "\n",
            "  Saving remote file: http://www.glozman.com/TextPages/03%20Dragons%20of%20Spring%20Dawning.txt\n",
            "       to local file: 03DragonsOfSpringDawning.txt\n",
            "\n",
            "\n",
            "Downloading Link #61:\n",
            "  http://www.glozman.com/TextPages/01%20Time%20Of%20The%20Twins.txt\n",
            "\n",
            "  Saving remote file: http://www.glozman.com/TextPages/01%20Time%20Of%20The%20Twins.txt\n",
            "       to local file: 01TimeOfTheTwins.txt\n",
            "\n",
            "\n",
            "Downloading Link #62:\n",
            "  http://www.glozman.com/TextPages/02%20War%20Of%20The%20Twins.txt\n",
            "\n",
            "  Saving remote file: http://www.glozman.com/TextPages/02%20War%20Of%20The%20Twins.txt\n",
            "       to local file: 02WarOfTheTwins.txt\n",
            "\n",
            "\n",
            "Downloading Link #63:\n",
            "  http://www.glozman.com/TextPages/03%20Test%20Of%20The%20Twins.txt\n",
            "\n",
            "  Saving remote file: http://www.glozman.com/TextPages/03%20Test%20Of%20The%20Twins.txt\n",
            "       to local file: 03TestOfTheTwins.txt\n",
            "\n",
            "\n",
            "Downloading Link #64:\n",
            "  http://www.glozman.com/TextPages/01%20The%20Second%20Generation.txt\n",
            "\n",
            "  Saving remote file: http://www.glozman.com/TextPages/01%20The%20Second%20Generation.txt\n",
            "       to local file: 01TheSecondGeneration.txt\n",
            "\n",
            "\n",
            "Downloading Link #65:\n",
            "  http://www.glozman.com/TextPages/02%20Dragons%20of%20Summer%20Flame.txt\n",
            "\n",
            "  Saving remote file: http://www.glozman.com/TextPages/02%20Dragons%20of%20Summer%20Flame.txt\n",
            "       to local file: 02DragonsOfSummerFlame.txt\n",
            "\n",
            "\n",
            "Downloading Link #66:\n",
            "  http://www.glozman.com/TextPages/Dragonlance%20Preludes%202%20vol%202%20-%20Flint%20the%20King.txt\n",
            "\n",
            "  Saving remote file: http://www.glozman.com/TextPages/Dragonlance%20Preludes%202%20vol%202%20-%20Flint%20the%20King.txt\n",
            "       to local file: dragonlancePreludes2Vol2FlintTheKing.txt\n",
            "\n",
            "\n",
            "Downloading Link #67:\n",
            "  http://www.glozman.com/TextPages/01%20The%20Legend%20Of%20Huma.txt\n",
            "\n",
            "  Saving remote file: http://www.glozman.com/TextPages/01%20The%20Legend%20Of%20Huma.txt\n",
            "       to local file: 01TheLegendOfHuma.txt\n",
            "\n",
            "\n",
            "Downloading Link #68:\n",
            "  http://www.glozman.com/TextPages/Lloyd%20Alexander%20-%20[Chronicles%20Of%20Prydain%201]%20Book%20of%20Three.txt\n",
            "\n",
            "  Saving remote file: http://www.glozman.com/TextPages/Lloyd%20Alexander%20-%20[Chronicles%20Of%20Prydain%201]%20Book%20of%20Three.txt\n",
            "       to local file: lloydAlexanderchroniclesOfPrydain1BookOfThree.txt\n",
            "\n",
            "\n",
            "Downloading Link #69:\n",
            "  http://www.glozman.com/TextPages/Lloyd%20Alexander%20-%20[Chronicles%20Of%20Prydain%202]%20Black%20Cauldron.txt\n",
            "\n",
            "  Saving remote file: http://www.glozman.com/TextPages/Lloyd%20Alexander%20-%20[Chronicles%20Of%20Prydain%202]%20Black%20Cauldron.txt\n",
            "       to local file: lloydAlexanderchroniclesOfPrydain2BlackCauldron.txt\n",
            "\n",
            "\n",
            "Downloading Link #70:\n",
            "  http://www.glozman.com/TextPages/Lloyd%20Alexander%20-%20[Chronicles%20Of%20Prydain%203]%20Castle%20Of%20Llyr.txt\n",
            "\n",
            "  Saving remote file: http://www.glozman.com/TextPages/Lloyd%20Alexander%20-%20[Chronicles%20Of%20Prydain%203]%20Castle%20Of%20Llyr.txt\n",
            "       to local file: lloydAlexanderchroniclesOfPrydain3CastleOfLlyr.txt\n",
            "\n",
            "\n",
            "Downloading Link #71:\n",
            "  http://www.glozman.com/TextPages/Lloyd%20Alexander%20-%20[Chronicles%20Of%20Prydain%204]%20Taran%20Wanderer.txt\n",
            "\n",
            "  Saving remote file: http://www.glozman.com/TextPages/Lloyd%20Alexander%20-%20[Chronicles%20Of%20Prydain%204]%20Taran%20Wanderer.txt\n",
            "       to local file: lloydAlexanderchroniclesOfPrydain4TaranWanderer.txt\n",
            "\n",
            "\n",
            "Downloading Link #72:\n",
            "  http://www.glozman.com/TextPages/Lloyd%20Alexander%20-%20[Chronicles%20Of%20Prydain%205]%20High%20King.txt\n",
            "\n",
            "  Saving remote file: http://www.glozman.com/TextPages/Lloyd%20Alexander%20-%20[Chronicles%20Of%20Prydain%205]%20High%20King.txt\n",
            "       to local file: lloydAlexanderchroniclesOfPrydain5HighKing.txt\n",
            "\n",
            "\n",
            "Downloading Link #73:\n",
            "  http://www.glozman.com/TextPages/Auel,%20Jean%20-%20Earth's%20Children%2001%20-%20The%20Clan%20of%20the%20Cave%20Bear.txt\n",
            "\n",
            "  Saving remote file: http://www.glozman.com/TextPages/Auel,%20Jean%20-%20Earth's%20Children%2001%20-%20The%20Clan%20of%20the%20Cave%20Bear.txt\n",
            "       to local file: auelJeanEarthsChildren01TheClanOfTheCaveBear.txt\n",
            "\n",
            "\n",
            "Downloading Link #74:\n",
            "  http://www.glozman.com/TextPages/Auel,%20Jean%20-%20Earth's%20Children%2002%20-%20The%20Valley%20of%20Horses.txt\n",
            "\n",
            "  Saving remote file: http://www.glozman.com/TextPages/Auel,%20Jean%20-%20Earth's%20Children%2002%20-%20The%20Valley%20of%20Horses.txt\n",
            "       to local file: auelJeanEarthsChildren02TheValleyOfHorses.txt\n",
            "\n",
            "\n",
            "Downloading Link #75:\n",
            "  http://www.glozman.com/TextPages/Auel,%20Jean%20-%20Earth's%20Children%2003%20-%20The%20Mammoth%20Hunters.txt\n",
            "\n",
            "  Saving remote file: http://www.glozman.com/TextPages/Auel,%20Jean%20-%20Earth's%20Children%2003%20-%20The%20Mammoth%20Hunters.txt\n",
            "       to local file: auelJeanEarthsChildren03TheMammothHunters.txt\n",
            "\n",
            "\n",
            "Downloading Link #76:\n",
            "  http://www.glozman.com/TextPages/Auel,%20Jean%20-%20Earth's%20Children%2004%20-%20Plains%20Of%20Passage.txt\n",
            "\n",
            "  Saving remote file: http://www.glozman.com/TextPages/Auel,%20Jean%20-%20Earth's%20Children%2004%20-%20Plains%20Of%20Passage.txt\n",
            "       to local file: auelJeanEarthsChildren04PlainsOfPassage.txt\n",
            "\n",
            "\n",
            "Downloading Link #77:\n",
            "  http://www.glozman.com/TextPages/Auel,%20Jean%20-%20Earth's%20Children%2005%20-%20The%20Shelters%20Of%20Stone.txt\n",
            "\n",
            "  Saving remote file: http://www.glozman.com/TextPages/Auel,%20Jean%20-%20Earth's%20Children%2005%20-%20The%20Shelters%20Of%20Stone.txt\n",
            "       to local file: auelJeanEarthsChildren05TheSheltersOfStone.txt\n",
            "\n",
            "\n",
            "Downloading Link #78:\n",
            "  http://www.glozman.com/TextPages/Star%20Wars%20-%20[Thrawn%20Trilogy%2001]%20-%20Heir%20to%20the%20Empire%20(by%20Timothy%20Zahn).txt\n",
            "\n",
            "  Saving remote file: http://www.glozman.com/TextPages/Star%20Wars%20-%20[Thrawn%20Trilogy%2001]%20-%20Heir%20to%20the%20Empire%20(by%20Timothy%20Zahn).txt\n",
            "       to local file: starWarsthrawnTrilogy01HeirToTheEmpirebyTimothyZahn.txt\n",
            "\n",
            "\n",
            "Downloading Link #79:\n",
            "  http://www.glozman.com/TextPages/Star%20Wars%20-%20[Thrawn%20Trilogy%2002]%20-%20Dark%20Force%20Rising%20(by%20Timothy%20Zahn).txt\n",
            "\n",
            "  Saving remote file: http://www.glozman.com/TextPages/Star%20Wars%20-%20[Thrawn%20Trilogy%2002]%20-%20Dark%20Force%20Rising%20(by%20Timothy%20Zahn).txt\n",
            "       to local file: starWarsthrawnTrilogy02DarkForceRisingbyTimothyZahn.txt\n",
            "\n",
            "\n",
            "Downloading Link #80:\n",
            "  http://www.glozman.com/TextPages/Star%20Wars%20-%20[Thrawn%20Trilogy%2003]%20-%20The%20Last%20Command%20(by%20Timothy%20Zahn).txt\n",
            "\n",
            "  Saving remote file: http://www.glozman.com/TextPages/Star%20Wars%20-%20[Thrawn%20Trilogy%2003]%20-%20The%20Last%20Command%20(by%20Timothy%20Zahn).txt\n",
            "       to local file: starWarsthrawnTrilogy03TheLastCommandbyTimothyZahn.txt\n",
            "\n",
            "\n",
            "Downloading Link #81:\n",
            "  http://www.glozman.com/TextPages/01%20-%20The%20Fellowship%20Of%20The%20Ring.txt\n",
            "\n",
            "  Saving remote file: http://www.glozman.com/TextPages/01%20-%20The%20Fellowship%20Of%20The%20Ring.txt\n",
            "       to local file: 01TheFellowshipOfTheRing.txt\n",
            "\n",
            "\n",
            "Downloading Link #82:\n",
            "  http://www.glozman.com/TextPages/02%20-%20The%20Two%20Towers.txt\n",
            "\n",
            "  Saving remote file: http://www.glozman.com/TextPages/02%20-%20The%20Two%20Towers.txt\n",
            "       to local file: 02TheTwoTowers.txt\n",
            "\n",
            "\n",
            "Downloading Link #83:\n",
            "  http://www.glozman.com/TextPages/03%20-%20The%20Return%20Of%20The%20King.txt\n",
            "\n",
            "  Saving remote file: http://www.glozman.com/TextPages/03%20-%20The%20Return%20Of%20The%20King.txt\n",
            "       to local file: 03TheReturnOfTheKing.txt\n",
            "\n",
            "\n",
            "Downloading Link #84:\n",
            "  http://www.glozman.com/TextPages/04%20-%20Appendices%20And%20Index.txt\n",
            "\n",
            "  Saving remote file: http://www.glozman.com/TextPages/04%20-%20Appendices%20And%20Index.txt\n",
            "       to local file: 04AppendicesAndIndex.txt\n",
            "\n",
            "\n"
          ],
          "name": "stdout"
        }
      ]
    },
    {
      "cell_type": "code",
      "metadata": {
        "id": "ATRvzTIxeOrB",
        "colab": {
          "base_uri": "https://localhost:8080/"
        },
        "outputId": "43f6936d-fd4b-4e9e-8eef-c39bbb47377d"
      },
      "source": [
        "!ls -altr"
      ],
      "execution_count": 27,
      "outputs": [
        {
          "output_type": "stream",
          "text": [
            "total 16\n",
            "drwxr-xr-x 4 root root 4096 Aug 13 13:34 .config\n",
            "drwxr-xr-x 1 root root 4096 Aug 13 13:35 .\n",
            "drwxr-xr-x 1 root root 4096 Aug 13 13:35 sample_data\n",
            "drwxr-xr-x 1 root root 4096 Aug 20 07:29 ..\n"
          ],
          "name": "stdout"
        }
      ]
    },
    {
      "cell_type": "code",
      "metadata": {
        "id": "zD8Q_KN5g7_p"
      },
      "source": [
        ""
      ],
      "execution_count": null,
      "outputs": []
    }
  ]
}